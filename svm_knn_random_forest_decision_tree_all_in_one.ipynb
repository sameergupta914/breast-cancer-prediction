{
  "cells": [
    {
      "cell_type": "code",
      "execution_count": 3,
      "id": "448d976c",
      "metadata": {
        "execution": {
          "iopub.execute_input": "2021-11-11T05:17:49.434248Z",
          "iopub.status.busy": "2021-11-11T05:17:49.432502Z",
          "iopub.status.idle": "2021-11-11T05:17:50.492528Z",
          "shell.execute_reply": "2021-11-11T05:17:50.493121Z",
          "shell.execute_reply.started": "2021-11-05T03:21:08.985912Z"
        },
        "id": "448d976c",
        "papermill": {
          "duration": 1.138272,
          "end_time": "2021-11-11T05:17:50.493399",
          "exception": false,
          "start_time": "2021-11-11T05:17:49.355127",
          "status": "completed"
        },
        "tags": []
      },
      "outputs": [],
      "source": [
        "import pandas as pd\n",
        "import numpy as np\n",
        "import matplotlib.pyplot as plt\n",
        "import seaborn as sns\n",
        "from sklearn.model_selection import GridSearchCV\n"
      ]
    },
    {
      "cell_type": "markdown",
      "id": "26871f6e",
      "metadata": {
        "papermill": {
          "duration": 0.073417,
          "end_time": "2021-11-11T05:17:50.856699",
          "exception": false,
          "start_time": "2021-11-11T05:17:50.783282",
          "status": "completed"
        },
        "tags": [],
        "id": "26871f6e"
      },
      "source": [
        "\n",
        ">**Introduction:\n",
        "We have the breast cancer data set to predict if a cancer is malignant or not. In this dataset, I stated with some exploratory data analysis. Then I used classification models, Logistic Regression, KNN, Random Forest and Decision Tree to classify the data. I also hypertuned the model to get better results.\n",
        "******"
      ]
    },
    {
      "cell_type": "code",
      "execution_count": 5,
      "id": "741bdffa",
      "metadata": {
        "execution": {
          "iopub.execute_input": "2021-11-11T05:17:51.182987Z",
          "iopub.status.busy": "2021-11-11T05:17:51.182054Z",
          "iopub.status.idle": "2021-11-11T05:17:51.226283Z",
          "shell.execute_reply": "2021-11-11T05:17:51.226782Z",
          "shell.execute_reply.started": "2021-11-05T03:21:13.234992Z"
        },
        "papermill": {
          "duration": 0.149055,
          "end_time": "2021-11-11T05:17:51.226955",
          "exception": false,
          "start_time": "2021-11-11T05:17:51.077900",
          "status": "completed"
        },
        "tags": [],
        "id": "741bdffa",
        "outputId": "7cbaa2a7-6a0c-417f-fd16-fcb0a1fb0c18",
        "colab": {
          "base_uri": "https://localhost:8080/",
          "height": 424
        }
      },
      "outputs": [
        {
          "output_type": "execute_result",
          "data": {
            "text/plain": [
              "     mean_radius  mean_texture  mean_perimeter  mean_area  mean_smoothness  \\\n",
              "0          17.99         10.38          122.80     1001.0          0.11840   \n",
              "1          20.57         17.77          132.90     1326.0          0.08474   \n",
              "2          19.69         21.25          130.00     1203.0          0.10960   \n",
              "3          11.42         20.38           77.58      386.1          0.14250   \n",
              "4          20.29         14.34          135.10     1297.0          0.10030   \n",
              "..           ...           ...             ...        ...              ...   \n",
              "564        21.56         22.39          142.00     1479.0          0.11100   \n",
              "565        20.13         28.25          131.20     1261.0          0.09780   \n",
              "566        16.60         28.08          108.30      858.1          0.08455   \n",
              "567        20.60         29.33          140.10     1265.0          0.11780   \n",
              "568         7.76         24.54           47.92      181.0          0.05263   \n",
              "\n",
              "     diagnosis  \n",
              "0            0  \n",
              "1            0  \n",
              "2            0  \n",
              "3            0  \n",
              "4            0  \n",
              "..         ...  \n",
              "564          0  \n",
              "565          0  \n",
              "566          0  \n",
              "567          0  \n",
              "568          1  \n",
              "\n",
              "[569 rows x 6 columns]"
            ],
            "text/html": [
              "\n",
              "  <div id=\"df-137bcdae-5136-4966-9518-8a32250a9518\" class=\"colab-df-container\">\n",
              "    <div>\n",
              "<style scoped>\n",
              "    .dataframe tbody tr th:only-of-type {\n",
              "        vertical-align: middle;\n",
              "    }\n",
              "\n",
              "    .dataframe tbody tr th {\n",
              "        vertical-align: top;\n",
              "    }\n",
              "\n",
              "    .dataframe thead th {\n",
              "        text-align: right;\n",
              "    }\n",
              "</style>\n",
              "<table border=\"1\" class=\"dataframe\">\n",
              "  <thead>\n",
              "    <tr style=\"text-align: right;\">\n",
              "      <th></th>\n",
              "      <th>mean_radius</th>\n",
              "      <th>mean_texture</th>\n",
              "      <th>mean_perimeter</th>\n",
              "      <th>mean_area</th>\n",
              "      <th>mean_smoothness</th>\n",
              "      <th>diagnosis</th>\n",
              "    </tr>\n",
              "  </thead>\n",
              "  <tbody>\n",
              "    <tr>\n",
              "      <th>0</th>\n",
              "      <td>17.99</td>\n",
              "      <td>10.38</td>\n",
              "      <td>122.80</td>\n",
              "      <td>1001.0</td>\n",
              "      <td>0.11840</td>\n",
              "      <td>0</td>\n",
              "    </tr>\n",
              "    <tr>\n",
              "      <th>1</th>\n",
              "      <td>20.57</td>\n",
              "      <td>17.77</td>\n",
              "      <td>132.90</td>\n",
              "      <td>1326.0</td>\n",
              "      <td>0.08474</td>\n",
              "      <td>0</td>\n",
              "    </tr>\n",
              "    <tr>\n",
              "      <th>2</th>\n",
              "      <td>19.69</td>\n",
              "      <td>21.25</td>\n",
              "      <td>130.00</td>\n",
              "      <td>1203.0</td>\n",
              "      <td>0.10960</td>\n",
              "      <td>0</td>\n",
              "    </tr>\n",
              "    <tr>\n",
              "      <th>3</th>\n",
              "      <td>11.42</td>\n",
              "      <td>20.38</td>\n",
              "      <td>77.58</td>\n",
              "      <td>386.1</td>\n",
              "      <td>0.14250</td>\n",
              "      <td>0</td>\n",
              "    </tr>\n",
              "    <tr>\n",
              "      <th>4</th>\n",
              "      <td>20.29</td>\n",
              "      <td>14.34</td>\n",
              "      <td>135.10</td>\n",
              "      <td>1297.0</td>\n",
              "      <td>0.10030</td>\n",
              "      <td>0</td>\n",
              "    </tr>\n",
              "    <tr>\n",
              "      <th>...</th>\n",
              "      <td>...</td>\n",
              "      <td>...</td>\n",
              "      <td>...</td>\n",
              "      <td>...</td>\n",
              "      <td>...</td>\n",
              "      <td>...</td>\n",
              "    </tr>\n",
              "    <tr>\n",
              "      <th>564</th>\n",
              "      <td>21.56</td>\n",
              "      <td>22.39</td>\n",
              "      <td>142.00</td>\n",
              "      <td>1479.0</td>\n",
              "      <td>0.11100</td>\n",
              "      <td>0</td>\n",
              "    </tr>\n",
              "    <tr>\n",
              "      <th>565</th>\n",
              "      <td>20.13</td>\n",
              "      <td>28.25</td>\n",
              "      <td>131.20</td>\n",
              "      <td>1261.0</td>\n",
              "      <td>0.09780</td>\n",
              "      <td>0</td>\n",
              "    </tr>\n",
              "    <tr>\n",
              "      <th>566</th>\n",
              "      <td>16.60</td>\n",
              "      <td>28.08</td>\n",
              "      <td>108.30</td>\n",
              "      <td>858.1</td>\n",
              "      <td>0.08455</td>\n",
              "      <td>0</td>\n",
              "    </tr>\n",
              "    <tr>\n",
              "      <th>567</th>\n",
              "      <td>20.60</td>\n",
              "      <td>29.33</td>\n",
              "      <td>140.10</td>\n",
              "      <td>1265.0</td>\n",
              "      <td>0.11780</td>\n",
              "      <td>0</td>\n",
              "    </tr>\n",
              "    <tr>\n",
              "      <th>568</th>\n",
              "      <td>7.76</td>\n",
              "      <td>24.54</td>\n",
              "      <td>47.92</td>\n",
              "      <td>181.0</td>\n",
              "      <td>0.05263</td>\n",
              "      <td>1</td>\n",
              "    </tr>\n",
              "  </tbody>\n",
              "</table>\n",
              "<p>569 rows × 6 columns</p>\n",
              "</div>\n",
              "    <div class=\"colab-df-buttons\">\n",
              "\n",
              "  <div class=\"colab-df-container\">\n",
              "    <button class=\"colab-df-convert\" onclick=\"convertToInteractive('df-137bcdae-5136-4966-9518-8a32250a9518')\"\n",
              "            title=\"Convert this dataframe to an interactive table.\"\n",
              "            style=\"display:none;\">\n",
              "\n",
              "  <svg xmlns=\"http://www.w3.org/2000/svg\" height=\"24px\" viewBox=\"0 -960 960 960\">\n",
              "    <path d=\"M120-120v-720h720v720H120Zm60-500h600v-160H180v160Zm220 220h160v-160H400v160Zm0 220h160v-160H400v160ZM180-400h160v-160H180v160Zm440 0h160v-160H620v160ZM180-180h160v-160H180v160Zm440 0h160v-160H620v160Z\"/>\n",
              "  </svg>\n",
              "    </button>\n",
              "\n",
              "  <style>\n",
              "    .colab-df-container {\n",
              "      display:flex;\n",
              "      gap: 12px;\n",
              "    }\n",
              "\n",
              "    .colab-df-convert {\n",
              "      background-color: #E8F0FE;\n",
              "      border: none;\n",
              "      border-radius: 50%;\n",
              "      cursor: pointer;\n",
              "      display: none;\n",
              "      fill: #1967D2;\n",
              "      height: 32px;\n",
              "      padding: 0 0 0 0;\n",
              "      width: 32px;\n",
              "    }\n",
              "\n",
              "    .colab-df-convert:hover {\n",
              "      background-color: #E2EBFA;\n",
              "      box-shadow: 0px 1px 2px rgba(60, 64, 67, 0.3), 0px 1px 3px 1px rgba(60, 64, 67, 0.15);\n",
              "      fill: #174EA6;\n",
              "    }\n",
              "\n",
              "    .colab-df-buttons div {\n",
              "      margin-bottom: 4px;\n",
              "    }\n",
              "\n",
              "    [theme=dark] .colab-df-convert {\n",
              "      background-color: #3B4455;\n",
              "      fill: #D2E3FC;\n",
              "    }\n",
              "\n",
              "    [theme=dark] .colab-df-convert:hover {\n",
              "      background-color: #434B5C;\n",
              "      box-shadow: 0px 1px 3px 1px rgba(0, 0, 0, 0.15);\n",
              "      filter: drop-shadow(0px 1px 2px rgba(0, 0, 0, 0.3));\n",
              "      fill: #FFFFFF;\n",
              "    }\n",
              "  </style>\n",
              "\n",
              "    <script>\n",
              "      const buttonEl =\n",
              "        document.querySelector('#df-137bcdae-5136-4966-9518-8a32250a9518 button.colab-df-convert');\n",
              "      buttonEl.style.display =\n",
              "        google.colab.kernel.accessAllowed ? 'block' : 'none';\n",
              "\n",
              "      async function convertToInteractive(key) {\n",
              "        const element = document.querySelector('#df-137bcdae-5136-4966-9518-8a32250a9518');\n",
              "        const dataTable =\n",
              "          await google.colab.kernel.invokeFunction('convertToInteractive',\n",
              "                                                    [key], {});\n",
              "        if (!dataTable) return;\n",
              "\n",
              "        const docLinkHtml = 'Like what you see? Visit the ' +\n",
              "          '<a target=\"_blank\" href=https://colab.research.google.com/notebooks/data_table.ipynb>data table notebook</a>'\n",
              "          + ' to learn more about interactive tables.';\n",
              "        element.innerHTML = '';\n",
              "        dataTable['output_type'] = 'display_data';\n",
              "        await google.colab.output.renderOutput(dataTable, element);\n",
              "        const docLink = document.createElement('div');\n",
              "        docLink.innerHTML = docLinkHtml;\n",
              "        element.appendChild(docLink);\n",
              "      }\n",
              "    </script>\n",
              "  </div>\n",
              "\n",
              "\n",
              "    <div id=\"df-cb64aa54-c0d6-4290-8512-0158b80efa19\">\n",
              "      <button class=\"colab-df-quickchart\" onclick=\"quickchart('df-cb64aa54-c0d6-4290-8512-0158b80efa19')\"\n",
              "                title=\"Suggest charts\"\n",
              "                style=\"display:none;\">\n",
              "\n",
              "<svg xmlns=\"http://www.w3.org/2000/svg\" height=\"24px\"viewBox=\"0 0 24 24\"\n",
              "     width=\"24px\">\n",
              "    <g>\n",
              "        <path d=\"M19 3H5c-1.1 0-2 .9-2 2v14c0 1.1.9 2 2 2h14c1.1 0 2-.9 2-2V5c0-1.1-.9-2-2-2zM9 17H7v-7h2v7zm4 0h-2V7h2v10zm4 0h-2v-4h2v4z\"/>\n",
              "    </g>\n",
              "</svg>\n",
              "      </button>\n",
              "\n",
              "<style>\n",
              "  .colab-df-quickchart {\n",
              "      --bg-color: #E8F0FE;\n",
              "      --fill-color: #1967D2;\n",
              "      --hover-bg-color: #E2EBFA;\n",
              "      --hover-fill-color: #174EA6;\n",
              "      --disabled-fill-color: #AAA;\n",
              "      --disabled-bg-color: #DDD;\n",
              "  }\n",
              "\n",
              "  [theme=dark] .colab-df-quickchart {\n",
              "      --bg-color: #3B4455;\n",
              "      --fill-color: #D2E3FC;\n",
              "      --hover-bg-color: #434B5C;\n",
              "      --hover-fill-color: #FFFFFF;\n",
              "      --disabled-bg-color: #3B4455;\n",
              "      --disabled-fill-color: #666;\n",
              "  }\n",
              "\n",
              "  .colab-df-quickchart {\n",
              "    background-color: var(--bg-color);\n",
              "    border: none;\n",
              "    border-radius: 50%;\n",
              "    cursor: pointer;\n",
              "    display: none;\n",
              "    fill: var(--fill-color);\n",
              "    height: 32px;\n",
              "    padding: 0;\n",
              "    width: 32px;\n",
              "  }\n",
              "\n",
              "  .colab-df-quickchart:hover {\n",
              "    background-color: var(--hover-bg-color);\n",
              "    box-shadow: 0 1px 2px rgba(60, 64, 67, 0.3), 0 1px 3px 1px rgba(60, 64, 67, 0.15);\n",
              "    fill: var(--button-hover-fill-color);\n",
              "  }\n",
              "\n",
              "  .colab-df-quickchart-complete:disabled,\n",
              "  .colab-df-quickchart-complete:disabled:hover {\n",
              "    background-color: var(--disabled-bg-color);\n",
              "    fill: var(--disabled-fill-color);\n",
              "    box-shadow: none;\n",
              "  }\n",
              "\n",
              "  .colab-df-spinner {\n",
              "    border: 2px solid var(--fill-color);\n",
              "    border-color: transparent;\n",
              "    border-bottom-color: var(--fill-color);\n",
              "    animation:\n",
              "      spin 1s steps(1) infinite;\n",
              "  }\n",
              "\n",
              "  @keyframes spin {\n",
              "    0% {\n",
              "      border-color: transparent;\n",
              "      border-bottom-color: var(--fill-color);\n",
              "      border-left-color: var(--fill-color);\n",
              "    }\n",
              "    20% {\n",
              "      border-color: transparent;\n",
              "      border-left-color: var(--fill-color);\n",
              "      border-top-color: var(--fill-color);\n",
              "    }\n",
              "    30% {\n",
              "      border-color: transparent;\n",
              "      border-left-color: var(--fill-color);\n",
              "      border-top-color: var(--fill-color);\n",
              "      border-right-color: var(--fill-color);\n",
              "    }\n",
              "    40% {\n",
              "      border-color: transparent;\n",
              "      border-right-color: var(--fill-color);\n",
              "      border-top-color: var(--fill-color);\n",
              "    }\n",
              "    60% {\n",
              "      border-color: transparent;\n",
              "      border-right-color: var(--fill-color);\n",
              "    }\n",
              "    80% {\n",
              "      border-color: transparent;\n",
              "      border-right-color: var(--fill-color);\n",
              "      border-bottom-color: var(--fill-color);\n",
              "    }\n",
              "    90% {\n",
              "      border-color: transparent;\n",
              "      border-bottom-color: var(--fill-color);\n",
              "    }\n",
              "  }\n",
              "</style>\n",
              "\n",
              "      <script>\n",
              "        async function quickchart(key) {\n",
              "          const quickchartButtonEl =\n",
              "            document.querySelector('#' + key + ' button');\n",
              "          quickchartButtonEl.disabled = true;  // To prevent multiple clicks.\n",
              "          quickchartButtonEl.classList.add('colab-df-spinner');\n",
              "          try {\n",
              "            const charts = await google.colab.kernel.invokeFunction(\n",
              "                'suggestCharts', [key], {});\n",
              "          } catch (error) {\n",
              "            console.error('Error during call to suggestCharts:', error);\n",
              "          }\n",
              "          quickchartButtonEl.classList.remove('colab-df-spinner');\n",
              "          quickchartButtonEl.classList.add('colab-df-quickchart-complete');\n",
              "        }\n",
              "        (() => {\n",
              "          let quickchartButtonEl =\n",
              "            document.querySelector('#df-cb64aa54-c0d6-4290-8512-0158b80efa19 button');\n",
              "          quickchartButtonEl.style.display =\n",
              "            google.colab.kernel.accessAllowed ? 'block' : 'none';\n",
              "        })();\n",
              "      </script>\n",
              "    </div>\n",
              "\n",
              "  <div id=\"id_eeaecab2-5e22-44c7-a297-4a742eccc757\">\n",
              "    <style>\n",
              "      .colab-df-generate {\n",
              "        background-color: #E8F0FE;\n",
              "        border: none;\n",
              "        border-radius: 50%;\n",
              "        cursor: pointer;\n",
              "        display: none;\n",
              "        fill: #1967D2;\n",
              "        height: 32px;\n",
              "        padding: 0 0 0 0;\n",
              "        width: 32px;\n",
              "      }\n",
              "\n",
              "      .colab-df-generate:hover {\n",
              "        background-color: #E2EBFA;\n",
              "        box-shadow: 0px 1px 2px rgba(60, 64, 67, 0.3), 0px 1px 3px 1px rgba(60, 64, 67, 0.15);\n",
              "        fill: #174EA6;\n",
              "      }\n",
              "\n",
              "      [theme=dark] .colab-df-generate {\n",
              "        background-color: #3B4455;\n",
              "        fill: #D2E3FC;\n",
              "      }\n",
              "\n",
              "      [theme=dark] .colab-df-generate:hover {\n",
              "        background-color: #434B5C;\n",
              "        box-shadow: 0px 1px 3px 1px rgba(0, 0, 0, 0.15);\n",
              "        filter: drop-shadow(0px 1px 2px rgba(0, 0, 0, 0.3));\n",
              "        fill: #FFFFFF;\n",
              "      }\n",
              "    </style>\n",
              "    <button class=\"colab-df-generate\" onclick=\"generateWithVariable('data_df')\"\n",
              "            title=\"Generate code using this dataframe.\"\n",
              "            style=\"display:none;\">\n",
              "\n",
              "  <svg xmlns=\"http://www.w3.org/2000/svg\" height=\"24px\"viewBox=\"0 0 24 24\"\n",
              "       width=\"24px\">\n",
              "    <path d=\"M7,19H8.4L18.45,9,17,7.55,7,17.6ZM5,21V16.75L18.45,3.32a2,2,0,0,1,2.83,0l1.4,1.43a1.91,1.91,0,0,1,.58,1.4,1.91,1.91,0,0,1-.58,1.4L9.25,21ZM18.45,9,17,7.55Zm-12,3A5.31,5.31,0,0,0,4.9,8.1,5.31,5.31,0,0,0,1,6.5,5.31,5.31,0,0,0,4.9,4.9,5.31,5.31,0,0,0,6.5,1,5.31,5.31,0,0,0,8.1,4.9,5.31,5.31,0,0,0,12,6.5,5.46,5.46,0,0,0,6.5,12Z\"/>\n",
              "  </svg>\n",
              "    </button>\n",
              "    <script>\n",
              "      (() => {\n",
              "      const buttonEl =\n",
              "        document.querySelector('#id_eeaecab2-5e22-44c7-a297-4a742eccc757 button.colab-df-generate');\n",
              "      buttonEl.style.display =\n",
              "        google.colab.kernel.accessAllowed ? 'block' : 'none';\n",
              "\n",
              "      buttonEl.onclick = () => {\n",
              "        google.colab.notebook.generateWithVariable('data_df');\n",
              "      }\n",
              "      })();\n",
              "    </script>\n",
              "  </div>\n",
              "\n",
              "    </div>\n",
              "  </div>\n"
            ],
            "application/vnd.google.colaboratory.intrinsic+json": {
              "type": "dataframe",
              "variable_name": "data_df",
              "summary": "{\n  \"name\": \"data_df\",\n  \"rows\": 569,\n  \"fields\": [\n    {\n      \"column\": \"mean_radius\",\n      \"properties\": {\n        \"dtype\": \"number\",\n        \"std\": 3.524048826212078,\n        \"min\": 6.981,\n        \"max\": 28.11,\n        \"num_unique_values\": 456,\n        \"samples\": [\n          11.87,\n          13.44,\n          12.96\n        ],\n        \"semantic_type\": \"\",\n        \"description\": \"\"\n      }\n    },\n    {\n      \"column\": \"mean_texture\",\n      \"properties\": {\n        \"dtype\": \"number\",\n        \"std\": 4.301035768166949,\n        \"min\": 9.71,\n        \"max\": 39.28,\n        \"num_unique_values\": 479,\n        \"samples\": [\n          17.84,\n          17.07,\n          18.57\n        ],\n        \"semantic_type\": \"\",\n        \"description\": \"\"\n      }\n    },\n    {\n      \"column\": \"mean_perimeter\",\n      \"properties\": {\n        \"dtype\": \"number\",\n        \"std\": 24.2989810387549,\n        \"min\": 43.79,\n        \"max\": 188.5,\n        \"num_unique_values\": 522,\n        \"samples\": [\n          92.25,\n          76.38,\n          119.6\n        ],\n        \"semantic_type\": \"\",\n        \"description\": \"\"\n      }\n    },\n    {\n      \"column\": \"mean_area\",\n      \"properties\": {\n        \"dtype\": \"number\",\n        \"std\": 351.9141291816527,\n        \"min\": 143.5,\n        \"max\": 2501.0,\n        \"num_unique_values\": 539,\n        \"samples\": [\n          556.7,\n          584.1,\n          458.4\n        ],\n        \"semantic_type\": \"\",\n        \"description\": \"\"\n      }\n    },\n    {\n      \"column\": \"mean_smoothness\",\n      \"properties\": {\n        \"dtype\": \"number\",\n        \"std\": 0.014064128137673616,\n        \"min\": 0.05263,\n        \"max\": 0.1634,\n        \"num_unique_values\": 474,\n        \"samples\": [\n          0.09427,\n          0.09003,\n          0.1186\n        ],\n        \"semantic_type\": \"\",\n        \"description\": \"\"\n      }\n    },\n    {\n      \"column\": \"diagnosis\",\n      \"properties\": {\n        \"dtype\": \"number\",\n        \"std\": 0,\n        \"min\": 0,\n        \"max\": 1,\n        \"num_unique_values\": 2,\n        \"samples\": [\n          1,\n          0\n        ],\n        \"semantic_type\": \"\",\n        \"description\": \"\"\n      }\n    }\n  ]\n}"
            }
          },
          "metadata": {},
          "execution_count": 5
        }
      ],
      "source": [
        "data_df=pd.read_csv(r'Breast_cancer_data.csv')\n",
        "data_df"
      ]
    },
    {
      "cell_type": "code",
      "execution_count": 6,
      "id": "f1661627",
      "metadata": {
        "execution": {
          "iopub.execute_input": "2021-11-11T05:17:51.521108Z",
          "iopub.status.busy": "2021-11-11T05:17:51.520175Z",
          "iopub.status.idle": "2021-11-11T05:17:51.525170Z",
          "shell.execute_reply": "2021-11-11T05:17:51.525590Z",
          "shell.execute_reply.started": "2021-11-05T03:21:14.121882Z"
        },
        "id": "f1661627",
        "outputId": "1947918b-cf73-4105-e44b-d8895a84b28b",
        "papermill": {
          "duration": 0.08046,
          "end_time": "2021-11-11T05:17:51.525759",
          "exception": false,
          "start_time": "2021-11-11T05:17:51.445299",
          "status": "completed"
        },
        "tags": [],
        "colab": {
          "base_uri": "https://localhost:8080/"
        }
      },
      "outputs": [
        {
          "output_type": "execute_result",
          "data": {
            "text/plain": [
              "(569, 6)"
            ]
          },
          "metadata": {},
          "execution_count": 6
        }
      ],
      "source": [
        "data_df.shape\n"
      ]
    },
    {
      "cell_type": "code",
      "execution_count": null,
      "id": "37b9fd63",
      "metadata": {
        "execution": {
          "iopub.execute_input": "2021-11-11T05:17:51.672997Z",
          "iopub.status.busy": "2021-11-11T05:17:51.672130Z",
          "iopub.status.idle": "2021-11-11T05:17:51.684818Z",
          "shell.execute_reply": "2021-11-11T05:17:51.685234Z",
          "shell.execute_reply.started": "2021-11-05T03:21:14.543051Z"
        },
        "id": "37b9fd63",
        "outputId": "bb26e149-1795-4388-f5d4-a1b829320bc4",
        "papermill": {
          "duration": 0.087976,
          "end_time": "2021-11-11T05:17:51.685412",
          "exception": false,
          "start_time": "2021-11-11T05:17:51.597436",
          "status": "completed"
        },
        "tags": [],
        "colab": {
          "base_uri": "https://localhost:8080/"
        }
      },
      "outputs": [
        {
          "output_type": "execute_result",
          "data": {
            "text/plain": [
              "1    357\n",
              "0    212\n",
              "Name: diagnosis, dtype: int64"
            ]
          },
          "metadata": {},
          "execution_count": 4
        }
      ],
      "source": [
        "data_df[\"diagnosis\"].value_counts()"
      ]
    },
    {
      "cell_type": "code",
      "execution_count": null,
      "id": "090a68d3",
      "metadata": {
        "execution": {
          "iopub.execute_input": "2021-11-11T05:17:51.834936Z",
          "iopub.status.busy": "2021-11-11T05:17:51.834011Z",
          "iopub.status.idle": "2021-11-11T05:17:51.841339Z",
          "shell.execute_reply": "2021-11-11T05:17:51.841774Z",
          "shell.execute_reply.started": "2021-11-05T03:21:14.95939Z"
        },
        "id": "090a68d3",
        "outputId": "275f6c7e-42a5-42c3-b0dc-4e19a70db470",
        "papermill": {
          "duration": 0.083606,
          "end_time": "2021-11-11T05:17:51.841945",
          "exception": false,
          "start_time": "2021-11-11T05:17:51.758339",
          "status": "completed"
        },
        "tags": [],
        "colab": {
          "base_uri": "https://localhost:8080/"
        }
      },
      "outputs": [
        {
          "output_type": "execute_result",
          "data": {
            "text/plain": [
              "mean_radius        0\n",
              "mean_texture       0\n",
              "mean_perimeter     0\n",
              "mean_area          0\n",
              "mean_smoothness    0\n",
              "diagnosis          0\n",
              "dtype: int64"
            ]
          },
          "metadata": {},
          "execution_count": 5
        }
      ],
      "source": [
        "data_df.isnull().sum()"
      ]
    },
    {
      "cell_type": "code",
      "execution_count": null,
      "id": "5ab7bd5a",
      "metadata": {
        "execution": {
          "iopub.execute_input": "2021-11-11T05:17:51.994103Z",
          "iopub.status.busy": "2021-11-11T05:17:51.993202Z",
          "iopub.status.idle": "2021-11-11T05:17:51.999031Z",
          "shell.execute_reply": "2021-11-11T05:17:51.999427Z",
          "shell.execute_reply.started": "2021-11-05T03:21:15.226347Z"
        },
        "id": "5ab7bd5a",
        "outputId": "25acfce4-69ab-4de4-fb09-60b92063fc5f",
        "papermill": {
          "duration": 0.082837,
          "end_time": "2021-11-11T05:17:51.999607",
          "exception": false,
          "start_time": "2021-11-11T05:17:51.916770",
          "status": "completed"
        },
        "tags": [],
        "colab": {
          "base_uri": "https://localhost:8080/"
        }
      },
      "outputs": [
        {
          "output_type": "execute_result",
          "data": {
            "text/plain": [
              "mean_radius        float64\n",
              "mean_texture       float64\n",
              "mean_perimeter     float64\n",
              "mean_area          float64\n",
              "mean_smoothness    float64\n",
              "diagnosis            int64\n",
              "dtype: object"
            ]
          },
          "metadata": {},
          "execution_count": 6
        }
      ],
      "source": [
        "data_df.dtypes"
      ]
    },
    {
      "cell_type": "code",
      "execution_count": null,
      "id": "f67da11e",
      "metadata": {
        "execution": {
          "iopub.execute_input": "2021-11-11T05:17:52.155126Z",
          "iopub.status.busy": "2021-11-11T05:17:52.154145Z",
          "iopub.status.idle": "2021-11-11T05:17:52.504083Z",
          "shell.execute_reply": "2021-11-11T05:17:52.503356Z",
          "shell.execute_reply.started": "2021-11-05T03:21:15.897973Z"
        },
        "id": "f67da11e",
        "outputId": "2b37308a-ae7d-466f-e4db-0fff63814f18",
        "papermill": {
          "duration": 0.429679,
          "end_time": "2021-11-11T05:17:52.504217",
          "exception": false,
          "start_time": "2021-11-11T05:17:52.074538",
          "status": "completed"
        },
        "tags": [],
        "colab": {
          "base_uri": "https://localhost:8080/",
          "height": 334
        }
      },
      "outputs": [
        {
          "output_type": "execute_result",
          "data": {
            "text/plain": [
              "(array([ 93., 251., 101.,  47.,  51.,  14.,   6.,   3.,   1.,   2.]),\n",
              " array([ 143.5 ,  379.25,  615.  ,  850.75, 1086.5 , 1322.25, 1558.  ,\n",
              "        1793.75, 2029.5 , 2265.25, 2501.  ]),\n",
              " <a list of 10 Patch objects>)"
            ]
          },
          "metadata": {},
          "execution_count": 7
        },
        {
          "output_type": "display_data",
          "data": {
            "text/plain": [
              "<Figure size 432x288 with 1 Axes>"
            ],
            "image/png": "[encoded data removed]"
          },
          "metadata": {
            "needs_background": "light"
          }
        }
      ],
      "source": [
        "plt.hist(data_df['mean_area'])"
      ]
    },
    {
      "cell_type": "code",
      "execution_count": null,
      "id": "be63f401",
      "metadata": {
        "execution": {
          "iopub.execute_input": "2021-11-11T05:17:52.659076Z",
          "iopub.status.busy": "2021-11-11T05:17:52.658425Z",
          "iopub.status.idle": "2021-11-11T05:17:52.856705Z",
          "shell.execute_reply": "2021-11-11T05:17:52.857252Z",
          "shell.execute_reply.started": "2021-11-05T03:21:16.474185Z"
        },
        "id": "be63f401",
        "outputId": "edfb7980-8426-4057-a39a-547d37ebd0e4",
        "papermill": {
          "duration": 0.279625,
          "end_time": "2021-11-11T05:17:52.857426",
          "exception": false,
          "start_time": "2021-11-11T05:17:52.577801",
          "status": "completed"
        },
        "tags": [],
        "colab": {
          "base_uri": "https://localhost:8080/",
          "height": 334
        }
      },
      "outputs": [
        {
          "output_type": "execute_result",
          "data": {
            "text/plain": [
              "(array([ 19.,  79., 185., 129.,  55.,  50.,  38.,   7.,   4.,   3.]),\n",
              " array([ 6.981 ,  9.0939, 11.2068, 13.3197, 15.4326, 17.5455, 19.6584,\n",
              "        21.7713, 23.8842, 25.9971, 28.11  ]),\n",
              " <a list of 10 Patch objects>)"
            ]
          },
          "metadata": {},
          "execution_count": 8
        },
        {
          "output_type": "display_data",
          "data": {
            "text/plain": [
              "<Figure size 432x288 with 1 Axes>"
            ],
            "image/png": "[encoded data removed]"
          },
          "metadata": {
            "needs_background": "light"
          }
        }
      ],
      "source": [
        "plt.hist(data_df['mean_radius'])"
      ]
    },
    {
      "cell_type": "code",
      "execution_count": null,
      "id": "cabc175a",
      "metadata": {
        "execution": {
          "iopub.execute_input": "2021-11-11T05:17:53.035787Z",
          "iopub.status.busy": "2021-11-11T05:17:53.012930Z",
          "iopub.status.idle": "2021-11-11T05:17:53.239017Z",
          "shell.execute_reply": "2021-11-11T05:17:53.238360Z",
          "shell.execute_reply.started": "2021-11-05T03:21:16.98976Z"
        },
        "id": "cabc175a",
        "outputId": "f327c3e5-2301-420e-a1b7-c58291c98b99",
        "papermill": {
          "duration": 0.30581,
          "end_time": "2021-11-11T05:17:53.239161",
          "exception": false,
          "start_time": "2021-11-11T05:17:52.933351",
          "status": "completed"
        },
        "tags": [],
        "colab": {
          "base_uri": "https://localhost:8080/",
          "height": 336
        }
      },
      "outputs": [
        {
          "output_type": "execute_result",
          "data": {
            "text/plain": [
              "(array([ 17.,  96., 154., 145.,  89.,  40.,  21.,   4.,   2.,   1.]),\n",
              " array([ 9.71 , 12.667, 15.624, 18.581, 21.538, 24.495, 27.452, 30.409,\n",
              "        33.366, 36.323, 39.28 ]),\n",
              " <a list of 10 Patch objects>)"
            ]
          },
          "metadata": {},
          "execution_count": 9
        },
        {
          "output_type": "display_data",
          "data": {
            "text/plain": [
              "<Figure size 432x288 with 1 Axes>"
            ],
            "image/png": "[encoded data removed]"
          },
          "metadata": {
            "needs_background": "light"
          }
        }
      ],
      "source": [
        "plt.hist(data_df['mean_texture'])"
      ]
    },
    {
      "cell_type": "code",
      "execution_count": null,
      "id": "584980f0",
      "metadata": {
        "execution": {
          "iopub.execute_input": "2021-11-11T05:17:53.398253Z",
          "iopub.status.busy": "2021-11-11T05:17:53.397606Z",
          "iopub.status.idle": "2021-11-11T05:17:53.614081Z",
          "shell.execute_reply": "2021-11-11T05:17:53.614493Z",
          "shell.execute_reply.started": "2021-11-05T03:21:17.678292Z"
        },
        "id": "584980f0",
        "outputId": "ad3da70e-a346-41a3-d371-33b1a2001fdc",
        "papermill": {
          "duration": 0.296855,
          "end_time": "2021-11-11T05:17:53.614675",
          "exception": false,
          "start_time": "2021-11-11T05:17:53.317820",
          "status": "completed"
        },
        "tags": [],
        "colab": {
          "base_uri": "https://localhost:8080/",
          "height": 334
        }
      },
      "outputs": [
        {
          "output_type": "execute_result",
          "data": {
            "text/plain": [
              "(array([ 15.,  93., 185., 116.,  62.,  49.,  34.,   8.,   3.,   4.]),\n",
              " array([ 43.79 ,  58.261,  72.732,  87.203, 101.674, 116.145, 130.616,\n",
              "        145.087, 159.558, 174.029, 188.5  ]),\n",
              " <a list of 10 Patch objects>)"
            ]
          },
          "metadata": {},
          "execution_count": 10
        },
        {
          "output_type": "display_data",
          "data": {
            "text/plain": [
              "<Figure size 432x288 with 1 Axes>"
            ],
            "image/png": "[encoded data removed]"
          },
          "metadata": {
            "needs_background": "light"
          }
        }
      ],
      "source": [
        "plt.hist(data_df['mean_perimeter'])"
      ]
    },
    {
      "cell_type": "code",
      "execution_count": null,
      "id": "8ab26fbd",
      "metadata": {
        "execution": {
          "iopub.execute_input": "2021-11-11T05:17:53.771404Z",
          "iopub.status.busy": "2021-11-11T05:17:53.770474Z",
          "iopub.status.idle": "2021-11-11T05:17:53.988024Z",
          "shell.execute_reply": "2021-11-11T05:17:53.987393Z",
          "shell.execute_reply.started": "2021-11-05T03:21:18.298899Z"
        },
        "id": "8ab26fbd",
        "outputId": "68bf3335-42e3-47f2-a0a3-e055ab65f1ca",
        "papermill": {
          "duration": 0.296754,
          "end_time": "2021-11-11T05:17:53.988164",
          "exception": false,
          "start_time": "2021-11-11T05:17:53.691410",
          "status": "completed"
        },
        "tags": [],
        "colab": {
          "base_uri": "https://localhost:8080/",
          "height": 334
        }
      },
      "outputs": [
        {
          "output_type": "execute_result",
          "data": {
            "text/plain": [
              "(array([  2.,  26., 110., 160., 164.,  79.,  20.,   5.,   2.,   1.]),\n",
              " array([0.05263 , 0.063707, 0.074784, 0.085861, 0.096938, 0.108015,\n",
              "        0.119092, 0.130169, 0.141246, 0.152323, 0.1634  ]),\n",
              " <a list of 10 Patch objects>)"
            ]
          },
          "metadata": {},
          "execution_count": 11
        },
        {
          "output_type": "display_data",
          "data": {
            "text/plain": [
              "<Figure size 432x288 with 1 Axes>"
            ],
            "image/png": "[encoded data removed]"
          },
          "metadata": {
            "needs_background": "light"
          }
        }
      ],
      "source": [
        "plt.hist(data_df['mean_smoothness'])"
      ]
    },
    {
      "cell_type": "code",
      "execution_count": null,
      "id": "4e1869a7",
      "metadata": {
        "execution": {
          "iopub.execute_input": "2021-11-11T05:17:54.147789Z",
          "iopub.status.busy": "2021-11-11T05:17:54.147176Z",
          "iopub.status.idle": "2021-11-11T05:17:54.447501Z",
          "shell.execute_reply": "2021-11-11T05:17:54.448008Z",
          "shell.execute_reply.started": "2021-11-05T03:21:19.026112Z"
        },
        "id": "4e1869a7",
        "outputId": "6aabdc4d-e044-42b8-b2d1-8148447cf425",
        "papermill": {
          "duration": 0.381651,
          "end_time": "2021-11-11T05:17:54.448180",
          "exception": false,
          "start_time": "2021-11-11T05:17:54.066529",
          "status": "completed"
        },
        "tags": [],
        "colab": {
          "base_uri": "https://localhost:8080/",
          "height": 296
        }
      },
      "outputs": [
        {
          "output_type": "execute_result",
          "data": {
            "text/plain": [
              "<matplotlib.axes._subplots.AxesSubplot at 0x7f386af84b10>"
            ]
          },
          "metadata": {},
          "execution_count": 12
        },
        {
          "output_type": "display_data",
          "data": {
            "text/plain": [
              "<Figure size 432x288 with 1 Axes>"
            ],
            "image/png": "[encoded data removed]"
          },
          "metadata": {
            "needs_background": "light"
          }
        }
      ],
      "source": [
        "sns.scatterplot(x=data_df['mean_area'],y=data_df['mean_radius'],hue=data_df['diagnosis'])"
      ]
    },
    {
      "cell_type": "code",
      "execution_count": null,
      "id": "e8b63117",
      "metadata": {
        "execution": {
          "iopub.execute_input": "2021-11-11T05:17:54.613119Z",
          "iopub.status.busy": "2021-11-11T05:17:54.612476Z",
          "iopub.status.idle": "2021-11-11T05:17:54.911530Z",
          "shell.execute_reply": "2021-11-11T05:17:54.912071Z",
          "shell.execute_reply.started": "2021-11-05T03:21:19.979977Z"
        },
        "id": "e8b63117",
        "outputId": "ac0b38a6-6706-4a2b-a201-ac6f0c10ee9d",
        "papermill": {
          "duration": 0.38515,
          "end_time": "2021-11-11T05:17:54.912230",
          "exception": false,
          "start_time": "2021-11-11T05:17:54.527080",
          "status": "completed"
        },
        "tags": [],
        "colab": {
          "base_uri": "https://localhost:8080/",
          "height": 296
        }
      },
      "outputs": [
        {
          "output_type": "execute_result",
          "data": {
            "text/plain": [
              "<matplotlib.axes._subplots.AxesSubplot at 0x7f386af8a890>"
            ]
          },
          "metadata": {},
          "execution_count": 13
        },
        {
          "output_type": "display_data",
          "data": {
            "text/plain": [
              "<Figure size 432x288 with 1 Axes>"
            ],
            "image/png": "[encoded data removed]"
          },
          "metadata": {
            "needs_background": "light"
          }
        }
      ],
      "source": [
        "sns.scatterplot(x=data_df['mean_area'],y=data_df['mean_smoothness'],hue=data_df['diagnosis'])"
      ]
    },
    {
      "cell_type": "code",
      "execution_count": null,
      "id": "96b4f6df",
      "metadata": {
        "execution": {
          "iopub.execute_input": "2021-11-11T05:17:55.077835Z",
          "iopub.status.busy": "2021-11-11T05:17:55.077237Z",
          "iopub.status.idle": "2021-11-11T05:17:55.383845Z",
          "shell.execute_reply": "2021-11-11T05:17:55.384331Z",
          "shell.execute_reply.started": "2021-11-05T03:21:20.776756Z"
        },
        "id": "96b4f6df",
        "outputId": "57a538df-5389-4d00-d027-632855b85b54",
        "papermill": {
          "duration": 0.391496,
          "end_time": "2021-11-11T05:17:55.384495",
          "exception": false,
          "start_time": "2021-11-11T05:17:54.992999",
          "status": "completed"
        },
        "tags": [],
        "colab": {
          "base_uri": "https://localhost:8080/",
          "height": 296
        }
      },
      "outputs": [
        {
          "output_type": "execute_result",
          "data": {
            "text/plain": [
              "<matplotlib.axes._subplots.AxesSubplot at 0x7f386aeb39d0>"
            ]
          },
          "metadata": {},
          "execution_count": 14
        },
        {
          "output_type": "display_data",
          "data": {
            "text/plain": [
              "<Figure size 432x288 with 1 Axes>"
            ],
            "image/png": "[encoded data removed]"
          },
          "metadata": {
            "needs_background": "light"
          }
        }
      ],
      "source": [
        "sns.scatterplot(x=data_df['mean_area'],y=data_df['mean_perimeter'],hue=data_df['diagnosis'])"
      ]
    },
    {
      "cell_type": "code",
      "execution_count": null,
      "id": "123f6afc",
      "metadata": {
        "execution": {
          "iopub.execute_input": "2021-11-11T05:17:55.549947Z",
          "iopub.status.busy": "2021-11-11T05:17:55.549276Z",
          "iopub.status.idle": "2021-11-11T05:17:55.852504Z",
          "shell.execute_reply": "2021-11-11T05:17:55.853048Z",
          "shell.execute_reply.started": "2021-11-05T03:21:21.363751Z"
        },
        "id": "123f6afc",
        "outputId": "59b0df2a-77ca-410e-8580-e6a543b6043b",
        "papermill": {
          "duration": 0.387467,
          "end_time": "2021-11-11T05:17:55.853218",
          "exception": false,
          "start_time": "2021-11-11T05:17:55.465751",
          "status": "completed"
        },
        "tags": [],
        "colab": {
          "base_uri": "https://localhost:8080/",
          "height": 296
        }
      },
      "outputs": [
        {
          "output_type": "execute_result",
          "data": {
            "text/plain": [
              "<matplotlib.axes._subplots.AxesSubplot at 0x7f386ae1c410>"
            ]
          },
          "metadata": {},
          "execution_count": 15
        },
        {
          "output_type": "display_data",
          "data": {
            "text/plain": [
              "<Figure size 432x288 with 1 Axes>"
            ],
            "image/png": "[encoded data removed]"
          },
          "metadata": {
            "needs_background": "light"
          }
        }
      ],
      "source": [
        "sns.scatterplot(x=data_df['mean_area'],y=data_df['mean_texture'],hue=data_df['diagnosis'])"
      ]
    },
    {
      "cell_type": "code",
      "execution_count": null,
      "id": "4980c8e5",
      "metadata": {
        "execution": {
          "iopub.execute_input": "2021-11-11T05:17:56.028372Z",
          "iopub.status.busy": "2021-11-11T05:17:56.027774Z",
          "iopub.status.idle": "2021-11-11T05:17:56.341178Z",
          "shell.execute_reply": "2021-11-11T05:17:56.341681Z",
          "shell.execute_reply.started": "2021-11-05T03:21:22.107462Z"
        },
        "id": "4980c8e5",
        "outputId": "04b0943f-4bb8-48ff-8b35-45796a43c72d",
        "papermill": {
          "duration": 0.400935,
          "end_time": "2021-11-11T05:17:56.341855",
          "exception": false,
          "start_time": "2021-11-11T05:17:55.940920",
          "status": "completed"
        },
        "tags": [],
        "colab": {
          "base_uri": "https://localhost:8080/",
          "height": 297
        }
      },
      "outputs": [
        {
          "output_type": "execute_result",
          "data": {
            "text/plain": [
              "<matplotlib.axes._subplots.AxesSubplot at 0x7f386ad98550>"
            ]
          },
          "metadata": {},
          "execution_count": 16
        },
        {
          "output_type": "display_data",
          "data": {
            "text/plain": [
              "<Figure size 432x288 with 1 Axes>"
            ],
            "image/png": "[encoded data removed]"
          },
          "metadata": {
            "needs_background": "light"
          }
        }
      ],
      "source": [
        "sns.scatterplot(x=data_df['mean_smoothness'],y=data_df['mean_texture'],hue=data_df['diagnosis'])"
      ]
    },
    {
      "cell_type": "code",
      "execution_count": null,
      "id": "1e5ab831",
      "metadata": {
        "execution": {
          "iopub.execute_input": "2021-11-11T05:17:56.684372Z",
          "iopub.status.busy": "2021-11-11T05:17:56.683743Z",
          "iopub.status.idle": "2021-11-11T05:17:56.699634Z",
          "shell.execute_reply": "2021-11-11T05:17:56.699146Z",
          "shell.execute_reply.started": "2021-11-05T03:21:23.322191Z"
        },
        "id": "1e5ab831",
        "outputId": "76370381-4184-4459-cc95-708496488e5c",
        "papermill": {
          "duration": 0.103635,
          "end_time": "2021-11-11T05:17:56.699774",
          "exception": false,
          "start_time": "2021-11-11T05:17:56.596139",
          "status": "completed"
        },
        "tags": [],
        "colab": {
          "base_uri": "https://localhost:8080/",
          "height": 237
        }
      },
      "outputs": [
        {
          "output_type": "execute_result",
          "data": {
            "text/plain": [
              "                 mean_radius  mean_texture  mean_perimeter  mean_area  \\\n",
              "mean_radius         1.000000      0.323782        0.997855   0.987357   \n",
              "mean_texture        0.323782      1.000000        0.329533   0.321086   \n",
              "mean_perimeter      0.997855      0.329533        1.000000   0.986507   \n",
              "mean_area           0.987357      0.321086        0.986507   1.000000   \n",
              "mean_smoothness     0.170581     -0.023389        0.207278   0.177028   \n",
              "diagnosis          -0.730029     -0.415185       -0.742636  -0.708984   \n",
              "\n",
              "                 mean_smoothness  diagnosis  \n",
              "mean_radius             0.170581  -0.730029  \n",
              "mean_texture           -0.023389  -0.415185  \n",
              "mean_perimeter          0.207278  -0.742636  \n",
              "mean_area               0.177028  -0.708984  \n",
              "mean_smoothness         1.000000  -0.358560  \n",
              "diagnosis              -0.358560   1.000000  "
            ],
            "text/html": [
              "\n",
              "  <div id=\"df-dfd027aa-0626-4161-8dd4-81d332fb0f81\">\n",
              "    <div class=\"colab-df-container\">\n",
              "      <div>\n",
              "<style scoped>\n",
              "    .dataframe tbody tr th:only-of-type {\n",
              "        vertical-align: middle;\n",
              "    }\n",
              "\n",
              "    .dataframe tbody tr th {\n",
              "        vertical-align: top;\n",
              "    }\n",
              "\n",
              "    .dataframe thead th {\n",
              "        text-align: right;\n",
              "    }\n",
              "</style>\n",
              "<table border=\"1\" class=\"dataframe\">\n",
              "  <thead>\n",
              "    <tr style=\"text-align: right;\">\n",
              "      <th></th>\n",
              "      <th>mean_radius</th>\n",
              "      <th>mean_texture</th>\n",
              "      <th>mean_perimeter</th>\n",
              "      <th>mean_area</th>\n",
              "      <th>mean_smoothness</th>\n",
              "      <th>diagnosis</th>\n",
              "    </tr>\n",
              "  </thead>\n",
              "  <tbody>\n",
              "    <tr>\n",
              "      <th>mean_radius</th>\n",
              "      <td>1.000000</td>\n",
              "      <td>0.323782</td>\n",
              "      <td>0.997855</td>\n",
              "      <td>0.987357</td>\n",
              "      <td>0.170581</td>\n",
              "      <td>-0.730029</td>\n",
              "    </tr>\n",
              "    <tr>\n",
              "      <th>mean_texture</th>\n",
              "      <td>0.323782</td>\n",
              "      <td>1.000000</td>\n",
              "      <td>0.329533</td>\n",
              "      <td>0.321086</td>\n",
              "      <td>-0.023389</td>\n",
              "      <td>-0.415185</td>\n",
              "    </tr>\n",
              "    <tr>\n",
              "      <th>mean_perimeter</th>\n",
              "      <td>0.997855</td>\n",
              "      <td>0.329533</td>\n",
              "      <td>1.000000</td>\n",
              "      <td>0.986507</td>\n",
              "      <td>0.207278</td>\n",
              "      <td>-0.742636</td>\n",
              "    </tr>\n",
              "    <tr>\n",
              "      <th>mean_area</th>\n",
              "      <td>0.987357</td>\n",
              "      <td>0.321086</td>\n",
              "      <td>0.986507</td>\n",
              "      <td>1.000000</td>\n",
              "      <td>0.177028</td>\n",
              "      <td>-0.708984</td>\n",
              "    </tr>\n",
              "    <tr>\n",
              "      <th>mean_smoothness</th>\n",
              "      <td>0.170581</td>\n",
              "      <td>-0.023389</td>\n",
              "      <td>0.207278</td>\n",
              "      <td>0.177028</td>\n",
              "      <td>1.000000</td>\n",
              "      <td>-0.358560</td>\n",
              "    </tr>\n",
              "    <tr>\n",
              "      <th>diagnosis</th>\n",
              "      <td>-0.730029</td>\n",
              "      <td>-0.415185</td>\n",
              "      <td>-0.742636</td>\n",
              "      <td>-0.708984</td>\n",
              "      <td>-0.358560</td>\n",
              "      <td>1.000000</td>\n",
              "    </tr>\n",
              "  </tbody>\n",
              "</table>\n",
              "</div>\n",
              "      <button class=\"colab-df-convert\" onclick=\"convertToInteractive('df-dfd027aa-0626-4161-8dd4-81d332fb0f81')\"\n",
              "              title=\"Convert this dataframe to an interactive table.\"\n",
              "              style=\"display:none;\">\n",
              "        \n",
              "  <svg xmlns=\"http://www.w3.org/2000/svg\" height=\"24px\"viewBox=\"0 0 24 24\"\n",
              "       width=\"24px\">\n",
              "    <path d=\"M0 0h24v24H0V0z\" fill=\"none\"/>\n",
              "    <path d=\"M18.56 5.44l.94 2.06.94-2.06 2.06-.94-2.06-.94-.94-2.06-.94 2.06-2.06.94zm-11 1L8.5 8.5l.94-2.06 2.06-.94-2.06-.94L8.5 2.5l-.94 2.06-2.06.94zm10 10l.94 2.06.94-2.06 2.06-.94-2.06-.94-.94-2.06-.94 2.06-2.06.94z\"/><path d=\"M17.41 7.96l-1.37-1.37c-.4-.4-.92-.59-1.43-.59-.52 0-1.04.2-1.43.59L10.3 9.45l-7.72 7.72c-.78.78-.78 2.05 0 2.83L4 21.41c.39.39.9.59 1.41.59.51 0 1.02-.2 1.41-.59l7.78-7.78 2.81-2.81c.8-.78.8-2.07 0-2.86zM5.41 20L4 18.59l7.72-7.72 1.47 1.35L5.41 20z\"/>\n",
              "  </svg>\n",
              "      </button>\n",
              "      \n",
              "  <style>\n",
              "    .colab-df-container {\n",
              "      display:flex;\n",
              "      flex-wrap:wrap;\n",
              "      gap: 12px;\n",
              "    }\n",
              "\n",
              "    .colab-df-convert {\n",
              "      background-color: #E8F0FE;\n",
              "      border: none;\n",
              "      border-radius: 50%;\n",
              "      cursor: pointer;\n",
              "      display: none;\n",
              "      fill: #1967D2;\n",
              "      height: 32px;\n",
              "      padding: 0 0 0 0;\n",
              "      width: 32px;\n",
              "    }\n",
              "\n",
              "    .colab-df-convert:hover {\n",
              "      background-color: #E2EBFA;\n",
              "      box-shadow: 0px 1px 2px rgba(60, 64, 67, 0.3), 0px 1px 3px 1px rgba(60, 64, 67, 0.15);\n",
              "      fill: #174EA6;\n",
              "    }\n",
              "\n",
              "    [theme=dark] .colab-df-convert {\n",
              "      background-color: #3B4455;\n",
              "      fill: #D2E3FC;\n",
              "    }\n",
              "\n",
              "    [theme=dark] .colab-df-convert:hover {\n",
              "      background-color: #434B5C;\n",
              "      box-shadow: 0px 1px 3px 1px rgba(0, 0, 0, 0.15);\n",
              "      filter: drop-shadow(0px 1px 2px rgba(0, 0, 0, 0.3));\n",
              "      fill: #FFFFFF;\n",
              "    }\n",
              "  </style>\n",
              "\n",
              "      <script>\n",
              "        const buttonEl =\n",
              "          document.querySelector('#df-dfd027aa-0626-4161-8dd4-81d332fb0f81 button.colab-df-convert');\n",
              "        buttonEl.style.display =\n",
              "          google.colab.kernel.accessAllowed ? 'block' : 'none';\n",
              "\n",
              "        async function convertToInteractive(key) {\n",
              "          const element = document.querySelector('#df-dfd027aa-0626-4161-8dd4-81d332fb0f81');\n",
              "          const dataTable =\n",
              "            await google.colab.kernel.invokeFunction('convertToInteractive',\n",
              "                                                     [key], {});\n",
              "          if (!dataTable) return;\n",
              "\n",
              "          const docLinkHtml = 'Like what you see? Visit the ' +\n",
              "            '<a target=\"_blank\" href=https://colab.research.google.com/notebooks/data_table.ipynb>data table notebook</a>'\n",
              "            + ' to learn more about interactive tables.';\n",
              "          element.innerHTML = '';\n",
              "          dataTable['output_type'] = 'display_data';\n",
              "          await google.colab.output.renderOutput(dataTable, element);\n",
              "          const docLink = document.createElement('div');\n",
              "          docLink.innerHTML = docLinkHtml;\n",
              "          element.appendChild(docLink);\n",
              "        }\n",
              "      </script>\n",
              "    </div>\n",
              "  </div>\n",
              "  "
            ]
          },
          "metadata": {},
          "execution_count": 17
        }
      ],
      "source": [
        "data_df.corr() # Correlation between various parameters"
      ]
    },
    {
      "cell_type": "markdown",
      "id": "03761270",
      "metadata": {
        "id": "03761270",
        "papermill": {
          "duration": 0.084595,
          "end_time": "2021-11-11T05:17:56.869583",
          "exception": false,
          "start_time": "2021-11-11T05:17:56.784988",
          "status": "completed"
        },
        "tags": []
      },
      "source": [
        "Mean Radius, Mean Perimeter and Mean Area are highly correlated."
      ]
    },
    {
      "cell_type": "code",
      "execution_count": null,
      "id": "5515dd13",
      "metadata": {
        "execution": {
          "iopub.execute_input": "2021-11-11T05:17:57.048213Z",
          "iopub.status.busy": "2021-11-11T05:17:57.047498Z",
          "iopub.status.idle": "2021-11-11T05:18:04.205807Z",
          "shell.execute_reply": "2021-11-11T05:18:04.206273Z",
          "shell.execute_reply.started": "2021-11-05T03:21:42.842348Z"
        },
        "id": "5515dd13",
        "outputId": "1758881a-6b21-499d-c2f6-816c4551c567",
        "papermill": {
          "duration": 7.250534,
          "end_time": "2021-11-11T05:18:04.206446",
          "exception": false,
          "start_time": "2021-11-11T05:17:56.955912",
          "status": "completed"
        },
        "tags": [],
        "colab": {
          "base_uri": "https://localhost:8080/",
          "height": 920
        }
      },
      "outputs": [
        {
          "output_type": "execute_result",
          "data": {
            "text/plain": [
              "<seaborn.axisgrid.PairGrid at 0x7f386ad1c3d0>"
            ]
          },
          "metadata": {},
          "execution_count": 18
        },
        {
          "output_type": "display_data",
          "data": {
            "text/plain": [
              "<Figure size 955.5x900 with 30 Axes>"
            ],
            "image/png": "[encoded data removed]"
          },
          "metadata": {
            "needs_background": "light"
          }
        }
      ],
      "source": [
        "sns.pairplot(data_df,hue='diagnosis')"
      ]
    },
    {
      "cell_type": "code",
      "execution_count": null,
      "id": "e4b151c1",
      "metadata": {
        "execution": {
          "iopub.execute_input": "2021-11-11T05:18:04.400300Z",
          "iopub.status.busy": "2021-11-11T05:18:04.399391Z",
          "iopub.status.idle": "2021-11-11T05:18:04.422524Z",
          "shell.execute_reply": "2021-11-11T05:18:04.423059Z",
          "shell.execute_reply.started": "2021-11-05T03:21:51.028724Z"
        },
        "id": "e4b151c1",
        "outputId": "5955d6af-ccaf-45ba-d005-62023d0a642c",
        "papermill": {
          "duration": 0.121233,
          "end_time": "2021-11-11T05:18:04.423235",
          "exception": false,
          "start_time": "2021-11-11T05:18:04.302002",
          "status": "completed"
        },
        "tags": [],
        "colab": {
          "base_uri": "https://localhost:8080/",
          "height": 478
        }
      },
      "outputs": [
        {
          "output_type": "stream",
          "name": "stderr",
          "text": [
            "/usr/local/lib/python3.7/dist-packages/ipykernel_launcher.py:1: FutureWarning: In a future version of pandas all arguments of DataFrame.drop except for the argument 'labels' will be keyword-only\n",
            "  \"\"\"Entry point for launching an IPython kernel.\n"
          ]
        },
        {
          "output_type": "execute_result",
          "data": {
            "text/plain": [
              "     mean_radius  mean_texture  mean_perimeter  mean_area  mean_smoothness\n",
              "0          17.99         10.38          122.80     1001.0          0.11840\n",
              "1          20.57         17.77          132.90     1326.0          0.08474\n",
              "2          19.69         21.25          130.00     1203.0          0.10960\n",
              "3          11.42         20.38           77.58      386.1          0.14250\n",
              "4          20.29         14.34          135.10     1297.0          0.10030\n",
              "..           ...           ...             ...        ...              ...\n",
              "564        21.56         22.39          142.00     1479.0          0.11100\n",
              "565        20.13         28.25          131.20     1261.0          0.09780\n",
              "566        16.60         28.08          108.30      858.1          0.08455\n",
              "567        20.60         29.33          140.10     1265.0          0.11780\n",
              "568         7.76         24.54           47.92      181.0          0.05263\n",
              "\n",
              "[569 rows x 5 columns]"
            ],
            "text/html": [
              "\n",
              "  <div id=\"df-9d246665-15dc-4df7-a5f8-cfe88296d93b\">\n",
              "    <div class=\"colab-df-container\">\n",
              "      <div>\n",
              "<style scoped>\n",
              "    .dataframe tbody tr th:only-of-type {\n",
              "        vertical-align: middle;\n",
              "    }\n",
              "\n",
              "    .dataframe tbody tr th {\n",
              "        vertical-align: top;\n",
              "    }\n",
              "\n",
              "    .dataframe thead th {\n",
              "        text-align: right;\n",
              "    }\n",
              "</style>\n",
              "<table border=\"1\" class=\"dataframe\">\n",
              "  <thead>\n",
              "    <tr style=\"text-align: right;\">\n",
              "      <th></th>\n",
              "      <th>mean_radius</th>\n",
              "      <th>mean_texture</th>\n",
              "      <th>mean_perimeter</th>\n",
              "      <th>mean_area</th>\n",
              "      <th>mean_smoothness</th>\n",
              "    </tr>\n",
              "  </thead>\n",
              "  <tbody>\n",
              "    <tr>\n",
              "      <th>0</th>\n",
              "      <td>17.99</td>\n",
              "      <td>10.38</td>\n",
              "      <td>122.80</td>\n",
              "      <td>1001.0</td>\n",
              "      <td>0.11840</td>\n",
              "    </tr>\n",
              "    <tr>\n",
              "      <th>1</th>\n",
              "      <td>20.57</td>\n",
              "      <td>17.77</td>\n",
              "      <td>132.90</td>\n",
              "      <td>1326.0</td>\n",
              "      <td>0.08474</td>\n",
              "    </tr>\n",
              "    <tr>\n",
              "      <th>2</th>\n",
              "      <td>19.69</td>\n",
              "      <td>21.25</td>\n",
              "      <td>130.00</td>\n",
              "      <td>1203.0</td>\n",
              "      <td>0.10960</td>\n",
              "    </tr>\n",
              "    <tr>\n",
              "      <th>3</th>\n",
              "      <td>11.42</td>\n",
              "      <td>20.38</td>\n",
              "      <td>77.58</td>\n",
              "      <td>386.1</td>\n",
              "      <td>0.14250</td>\n",
              "    </tr>\n",
              "    <tr>\n",
              "      <th>4</th>\n",
              "      <td>20.29</td>\n",
              "      <td>14.34</td>\n",
              "      <td>135.10</td>\n",
              "      <td>1297.0</td>\n",
              "      <td>0.10030</td>\n",
              "    </tr>\n",
              "    <tr>\n",
              "      <th>...</th>\n",
              "      <td>...</td>\n",
              "      <td>...</td>\n",
              "      <td>...</td>\n",
              "      <td>...</td>\n",
              "      <td>...</td>\n",
              "    </tr>\n",
              "    <tr>\n",
              "      <th>564</th>\n",
              "      <td>21.56</td>\n",
              "      <td>22.39</td>\n",
              "      <td>142.00</td>\n",
              "      <td>1479.0</td>\n",
              "      <td>0.11100</td>\n",
              "    </tr>\n",
              "    <tr>\n",
              "      <th>565</th>\n",
              "      <td>20.13</td>\n",
              "      <td>28.25</td>\n",
              "      <td>131.20</td>\n",
              "      <td>1261.0</td>\n",
              "      <td>0.09780</td>\n",
              "    </tr>\n",
              "    <tr>\n",
              "      <th>566</th>\n",
              "      <td>16.60</td>\n",
              "      <td>28.08</td>\n",
              "      <td>108.30</td>\n",
              "      <td>858.1</td>\n",
              "      <td>0.08455</td>\n",
              "    </tr>\n",
              "    <tr>\n",
              "      <th>567</th>\n",
              "      <td>20.60</td>\n",
              "      <td>29.33</td>\n",
              "      <td>140.10</td>\n",
              "      <td>1265.0</td>\n",
              "      <td>0.11780</td>\n",
              "    </tr>\n",
              "    <tr>\n",
              "      <th>568</th>\n",
              "      <td>7.76</td>\n",
              "      <td>24.54</td>\n",
              "      <td>47.92</td>\n",
              "      <td>181.0</td>\n",
              "      <td>0.05263</td>\n",
              "    </tr>\n",
              "  </tbody>\n",
              "</table>\n",
              "<p>569 rows × 5 columns</p>\n",
              "</div>\n",
              "      <button class=\"colab-df-convert\" onclick=\"convertToInteractive('df-9d246665-15dc-4df7-a5f8-cfe88296d93b')\"\n",
              "              title=\"Convert this dataframe to an interactive table.\"\n",
              "              style=\"display:none;\">\n",
              "        \n",
              "  <svg xmlns=\"http://www.w3.org/2000/svg\" height=\"24px\"viewBox=\"0 0 24 24\"\n",
              "       width=\"24px\">\n",
              "    <path d=\"M0 0h24v24H0V0z\" fill=\"none\"/>\n",
              "    <path d=\"M18.56 5.44l.94 2.06.94-2.06 2.06-.94-2.06-.94-.94-2.06-.94 2.06-2.06.94zm-11 1L8.5 8.5l.94-2.06 2.06-.94-2.06-.94L8.5 2.5l-.94 2.06-2.06.94zm10 10l.94 2.06.94-2.06 2.06-.94-2.06-.94-.94-2.06-.94 2.06-2.06.94z\"/><path d=\"M17.41 7.96l-1.37-1.37c-.4-.4-.92-.59-1.43-.59-.52 0-1.04.2-1.43.59L10.3 9.45l-7.72 7.72c-.78.78-.78 2.05 0 2.83L4 21.41c.39.39.9.59 1.41.59.51 0 1.02-.2 1.41-.59l7.78-7.78 2.81-2.81c.8-.78.8-2.07 0-2.86zM5.41 20L4 18.59l7.72-7.72 1.47 1.35L5.41 20z\"/>\n",
              "  </svg>\n",
              "      </button>\n",
              "      \n",
              "  <style>\n",
              "    .colab-df-container {\n",
              "      display:flex;\n",
              "      flex-wrap:wrap;\n",
              "      gap: 12px;\n",
              "    }\n",
              "\n",
              "    .colab-df-convert {\n",
              "      background-color: #E8F0FE;\n",
              "      border: none;\n",
              "      border-radius: 50%;\n",
              "      cursor: pointer;\n",
              "      display: none;\n",
              "      fill: #1967D2;\n",
              "      height: 32px;\n",
              "      padding: 0 0 0 0;\n",
              "      width: 32px;\n",
              "    }\n",
              "\n",
              "    .colab-df-convert:hover {\n",
              "      background-color: #E2EBFA;\n",
              "      box-shadow: 0px 1px 2px rgba(60, 64, 67, 0.3), 0px 1px 3px 1px rgba(60, 64, 67, 0.15);\n",
              "      fill: #174EA6;\n",
              "    }\n",
              "\n",
              "    [theme=dark] .colab-df-convert {\n",
              "      background-color: #3B4455;\n",
              "      fill: #D2E3FC;\n",
              "    }\n",
              "\n",
              "    [theme=dark] .colab-df-convert:hover {\n",
              "      background-color: #434B5C;\n",
              "      box-shadow: 0px 1px 3px 1px rgba(0, 0, 0, 0.15);\n",
              "      filter: drop-shadow(0px 1px 2px rgba(0, 0, 0, 0.3));\n",
              "      fill: #FFFFFF;\n",
              "    }\n",
              "  </style>\n",
              "\n",
              "      <script>\n",
              "        const buttonEl =\n",
              "          document.querySelector('#df-9d246665-15dc-4df7-a5f8-cfe88296d93b button.colab-df-convert');\n",
              "        buttonEl.style.display =\n",
              "          google.colab.kernel.accessAllowed ? 'block' : 'none';\n",
              "\n",
              "        async function convertToInteractive(key) {\n",
              "          const element = document.querySelector('#df-9d246665-15dc-4df7-a5f8-cfe88296d93b');\n",
              "          const dataTable =\n",
              "            await google.colab.kernel.invokeFunction('convertToInteractive',\n",
              "                                                     [key], {});\n",
              "          if (!dataTable) return;\n",
              "\n",
              "          const docLinkHtml = 'Like what you see? Visit the ' +\n",
              "            '<a target=\"_blank\" href=https://colab.research.google.com/notebooks/data_table.ipynb>data table notebook</a>'\n",
              "            + ' to learn more about interactive tables.';\n",
              "          element.innerHTML = '';\n",
              "          dataTable['output_type'] = 'display_data';\n",
              "          await google.colab.output.renderOutput(dataTable, element);\n",
              "          const docLink = document.createElement('div');\n",
              "          docLink.innerHTML = docLinkHtml;\n",
              "          element.appendChild(docLink);\n",
              "        }\n",
              "      </script>\n",
              "    </div>\n",
              "  </div>\n",
              "  "
            ]
          },
          "metadata": {},
          "execution_count": 19
        }
      ],
      "source": [
        "x= data_df.drop('diagnosis',1) # Dropped diagnosis column\n",
        "x"
      ]
    },
    {
      "cell_type": "code",
      "execution_count": null,
      "id": "06c017ab",
      "metadata": {
        "execution": {
          "iopub.execute_input": "2021-11-11T05:18:04.653132Z",
          "iopub.status.busy": "2021-11-11T05:18:04.652320Z",
          "iopub.status.idle": "2021-11-11T05:18:04.655400Z",
          "shell.execute_reply": "2021-11-11T05:18:04.654925Z",
          "shell.execute_reply.started": "2021-11-05T03:21:55.418814Z"
        },
        "id": "06c017ab",
        "papermill": {
          "duration": 0.116241,
          "end_time": "2021-11-11T05:18:04.655540",
          "exception": false,
          "start_time": "2021-11-11T05:18:04.539299",
          "status": "completed"
        },
        "tags": []
      },
      "outputs": [],
      "source": [
        "y= data_df['diagnosis']"
      ]
    },
    {
      "cell_type": "code",
      "execution_count": null,
      "id": "f1f29cca",
      "metadata": {
        "execution": {
          "iopub.execute_input": "2021-11-11T05:18:04.879191Z",
          "iopub.status.busy": "2021-11-11T05:18:04.878207Z",
          "iopub.status.idle": "2021-11-11T05:18:04.880782Z",
          "shell.execute_reply": "2021-11-11T05:18:04.880283Z",
          "shell.execute_reply.started": "2021-11-05T03:21:55.858224Z"
        },
        "id": "f1f29cca",
        "papermill": {
          "duration": 0.11523,
          "end_time": "2021-11-11T05:18:04.880933",
          "exception": false,
          "start_time": "2021-11-11T05:18:04.765703",
          "status": "completed"
        },
        "tags": []
      },
      "outputs": [],
      "source": [
        "from sklearn.model_selection import train_test_split"
      ]
    },
    {
      "cell_type": "code",
      "execution_count": null,
      "id": "1404fad4",
      "metadata": {
        "execution": {
          "iopub.execute_input": "2021-11-11T05:18:05.080056Z",
          "iopub.status.busy": "2021-11-11T05:18:05.079085Z",
          "iopub.status.idle": "2021-11-11T05:18:05.086308Z",
          "shell.execute_reply": "2021-11-11T05:18:05.086950Z",
          "shell.execute_reply.started": "2021-11-05T03:21:56.092621Z"
        },
        "id": "1404fad4",
        "papermill": {
          "duration": 0.108809,
          "end_time": "2021-11-11T05:18:05.087131",
          "exception": false,
          "start_time": "2021-11-11T05:18:04.978322",
          "status": "completed"
        },
        "tags": []
      },
      "outputs": [],
      "source": [
        "X_train,X_test,Y_train,Y_test = train_test_split(x,y,test_size=0.2,random_state=10) # Spliting dataset for training and testing"
      ]
    },
    {
      "cell_type": "code",
      "execution_count": null,
      "id": "b50285da",
      "metadata": {
        "execution": {
          "iopub.execute_input": "2021-11-11T05:18:05.284938Z",
          "iopub.status.busy": "2021-11-11T05:18:05.284023Z",
          "iopub.status.idle": "2021-11-11T05:18:05.297782Z",
          "shell.execute_reply": "2021-11-11T05:18:05.298279Z",
          "shell.execute_reply.started": "2021-11-05T03:21:56.298592Z"
        },
        "id": "b50285da",
        "outputId": "cbf412fe-dd46-4ab9-91a5-3e33f30d9990",
        "papermill": {
          "duration": 0.114663,
          "end_time": "2021-11-11T05:18:05.298440",
          "exception": false,
          "start_time": "2021-11-11T05:18:05.183777",
          "status": "completed"
        },
        "tags": [],
        "colab": {
          "base_uri": "https://localhost:8080/",
          "height": 424
        }
      },
      "outputs": [
        {
          "output_type": "execute_result",
          "data": {
            "text/plain": [
              "     mean_radius  mean_texture  mean_perimeter  mean_area  mean_smoothness\n",
              "567        20.60         29.33          140.10     1265.0          0.11780\n",
              "295        13.77         13.27           88.06      582.7          0.09198\n",
              "91         15.37         22.76          100.20      728.2          0.09200\n",
              "1          20.57         17.77          132.90     1326.0          0.08474\n",
              "94         15.06         19.83          100.30      705.6          0.10390\n",
              "..           ...           ...             ...        ...              ...\n",
              "369        22.01         21.90          147.20     1482.0          0.10630\n",
              "320        10.25         16.18           66.52      324.2          0.10610\n",
              "527        12.34         12.27           78.94      468.5          0.09003\n",
              "125        13.85         17.21           88.44      588.7          0.08785\n",
              "265        20.73         31.12          135.70     1419.0          0.09469\n",
              "\n",
              "[455 rows x 5 columns]"
            ],
            "text/html": [
              "\n",
              "  <div id=\"df-8e011b8e-ffbd-4e23-90e7-78703c4294e6\">\n",
              "    <div class=\"colab-df-container\">\n",
              "      <div>\n",
              "<style scoped>\n",
              "    .dataframe tbody tr th:only-of-type {\n",
              "        vertical-align: middle;\n",
              "    }\n",
              "\n",
              "    .dataframe tbody tr th {\n",
              "        vertical-align: top;\n",
              "    }\n",
              "\n",
              "    .dataframe thead th {\n",
              "        text-align: right;\n",
              "    }\n",
              "</style>\n",
              "<table border=\"1\" class=\"dataframe\">\n",
              "  <thead>\n",
              "    <tr style=\"text-align: right;\">\n",
              "      <th></th>\n",
              "      <th>mean_radius</th>\n",
              "      <th>mean_texture</th>\n",
              "      <th>mean_perimeter</th>\n",
              "      <th>mean_area</th>\n",
              "      <th>mean_smoothness</th>\n",
              "    </tr>\n",
              "  </thead>\n",
              "  <tbody>\n",
              "    <tr>\n",
              "      <th>567</th>\n",
              "      <td>20.60</td>\n",
              "      <td>29.33</td>\n",
              "      <td>140.10</td>\n",
              "      <td>1265.0</td>\n",
              "      <td>0.11780</td>\n",
              "    </tr>\n",
              "    <tr>\n",
              "      <th>295</th>\n",
              "      <td>13.77</td>\n",
              "      <td>13.27</td>\n",
              "      <td>88.06</td>\n",
              "      <td>582.7</td>\n",
              "      <td>0.09198</td>\n",
              "    </tr>\n",
              "    <tr>\n",
              "      <th>91</th>\n",
              "      <td>15.37</td>\n",
              "      <td>22.76</td>\n",
              "      <td>100.20</td>\n",
              "      <td>728.2</td>\n",
              "      <td>0.09200</td>\n",
              "    </tr>\n",
              "    <tr>\n",
              "      <th>1</th>\n",
              "      <td>20.57</td>\n",
              "      <td>17.77</td>\n",
              "      <td>132.90</td>\n",
              "      <td>1326.0</td>\n",
              "      <td>0.08474</td>\n",
              "    </tr>\n",
              "    <tr>\n",
              "      <th>94</th>\n",
              "      <td>15.06</td>\n",
              "      <td>19.83</td>\n",
              "      <td>100.30</td>\n",
              "      <td>705.6</td>\n",
              "      <td>0.10390</td>\n",
              "    </tr>\n",
              "    <tr>\n",
              "      <th>...</th>\n",
              "      <td>...</td>\n",
              "      <td>...</td>\n",
              "      <td>...</td>\n",
              "      <td>...</td>\n",
              "      <td>...</td>\n",
              "    </tr>\n",
              "    <tr>\n",
              "      <th>369</th>\n",
              "      <td>22.01</td>\n",
              "      <td>21.90</td>\n",
              "      <td>147.20</td>\n",
              "      <td>1482.0</td>\n",
              "      <td>0.10630</td>\n",
              "    </tr>\n",
              "    <tr>\n",
              "      <th>320</th>\n",
              "      <td>10.25</td>\n",
              "      <td>16.18</td>\n",
              "      <td>66.52</td>\n",
              "      <td>324.2</td>\n",
              "      <td>0.10610</td>\n",
              "    </tr>\n",
              "    <tr>\n",
              "      <th>527</th>\n",
              "      <td>12.34</td>\n",
              "      <td>12.27</td>\n",
              "      <td>78.94</td>\n",
              "      <td>468.5</td>\n",
              "      <td>0.09003</td>\n",
              "    </tr>\n",
              "    <tr>\n",
              "      <th>125</th>\n",
              "      <td>13.85</td>\n",
              "      <td>17.21</td>\n",
              "      <td>88.44</td>\n",
              "      <td>588.7</td>\n",
              "      <td>0.08785</td>\n",
              "    </tr>\n",
              "    <tr>\n",
              "      <th>265</th>\n",
              "      <td>20.73</td>\n",
              "      <td>31.12</td>\n",
              "      <td>135.70</td>\n",
              "      <td>1419.0</td>\n",
              "      <td>0.09469</td>\n",
              "    </tr>\n",
              "  </tbody>\n",
              "</table>\n",
              "<p>455 rows × 5 columns</p>\n",
              "</div>\n",
              "      <button class=\"colab-df-convert\" onclick=\"convertToInteractive('df-8e011b8e-ffbd-4e23-90e7-78703c4294e6')\"\n",
              "              title=\"Convert this dataframe to an interactive table.\"\n",
              "              style=\"display:none;\">\n",
              "        \n",
              "  <svg xmlns=\"http://www.w3.org/2000/svg\" height=\"24px\"viewBox=\"0 0 24 24\"\n",
              "       width=\"24px\">\n",
              "    <path d=\"M0 0h24v24H0V0z\" fill=\"none\"/>\n",
              "    <path d=\"M18.56 5.44l.94 2.06.94-2.06 2.06-.94-2.06-.94-.94-2.06-.94 2.06-2.06.94zm-11 1L8.5 8.5l.94-2.06 2.06-.94-2.06-.94L8.5 2.5l-.94 2.06-2.06.94zm10 10l.94 2.06.94-2.06 2.06-.94-2.06-.94-.94-2.06-.94 2.06-2.06.94z\"/><path d=\"M17.41 7.96l-1.37-1.37c-.4-.4-.92-.59-1.43-.59-.52 0-1.04.2-1.43.59L10.3 9.45l-7.72 7.72c-.78.78-.78 2.05 0 2.83L4 21.41c.39.39.9.59 1.41.59.51 0 1.02-.2 1.41-.59l7.78-7.78 2.81-2.81c.8-.78.8-2.07 0-2.86zM5.41 20L4 18.59l7.72-7.72 1.47 1.35L5.41 20z\"/>\n",
              "  </svg>\n",
              "      </button>\n",
              "      \n",
              "  <style>\n",
              "    .colab-df-container {\n",
              "      display:flex;\n",
              "      flex-wrap:wrap;\n",
              "      gap: 12px;\n",
              "    }\n",
              "\n",
              "    .colab-df-convert {\n",
              "      background-color: #E8F0FE;\n",
              "      border: none;\n",
              "      border-radius: 50%;\n",
              "      cursor: pointer;\n",
              "      display: none;\n",
              "      fill: #1967D2;\n",
              "      height: 32px;\n",
              "      padding: 0 0 0 0;\n",
              "      width: 32px;\n",
              "    }\n",
              "\n",
              "    .colab-df-convert:hover {\n",
              "      background-color: #E2EBFA;\n",
              "      box-shadow: 0px 1px 2px rgba(60, 64, 67, 0.3), 0px 1px 3px 1px rgba(60, 64, 67, 0.15);\n",
              "      fill: #174EA6;\n",
              "    }\n",
              "\n",
              "    [theme=dark] .colab-df-convert {\n",
              "      background-color: #3B4455;\n",
              "      fill: #D2E3FC;\n",
              "    }\n",
              "\n",
              "    [theme=dark] .colab-df-convert:hover {\n",
              "      background-color: #434B5C;\n",
              "      box-shadow: 0px 1px 3px 1px rgba(0, 0, 0, 0.15);\n",
              "      filter: drop-shadow(0px 1px 2px rgba(0, 0, 0, 0.3));\n",
              "      fill: #FFFFFF;\n",
              "    }\n",
              "  </style>\n",
              "\n",
              "      <script>\n",
              "        const buttonEl =\n",
              "          document.querySelector('#df-8e011b8e-ffbd-4e23-90e7-78703c4294e6 button.colab-df-convert');\n",
              "        buttonEl.style.display =\n",
              "          google.colab.kernel.accessAllowed ? 'block' : 'none';\n",
              "\n",
              "        async function convertToInteractive(key) {\n",
              "          const element = document.querySelector('#df-8e011b8e-ffbd-4e23-90e7-78703c4294e6');\n",
              "          const dataTable =\n",
              "            await google.colab.kernel.invokeFunction('convertToInteractive',\n",
              "                                                     [key], {});\n",
              "          if (!dataTable) return;\n",
              "\n",
              "          const docLinkHtml = 'Like what you see? Visit the ' +\n",
              "            '<a target=\"_blank\" href=https://colab.research.google.com/notebooks/data_table.ipynb>data table notebook</a>'\n",
              "            + ' to learn more about interactive tables.';\n",
              "          element.innerHTML = '';\n",
              "          dataTable['output_type'] = 'display_data';\n",
              "          await google.colab.output.renderOutput(dataTable, element);\n",
              "          const docLink = document.createElement('div');\n",
              "          docLink.innerHTML = docLinkHtml;\n",
              "          element.appendChild(docLink);\n",
              "        }\n",
              "      </script>\n",
              "    </div>\n",
              "  </div>\n",
              "  "
            ]
          },
          "metadata": {},
          "execution_count": 23
        }
      ],
      "source": [
        "X_train"
      ]
    },
    {
      "cell_type": "code",
      "execution_count": null,
      "id": "9fdedba1",
      "metadata": {
        "execution": {
          "iopub.execute_input": "2021-11-11T05:18:05.493444Z",
          "iopub.status.busy": "2021-11-11T05:18:05.492492Z",
          "iopub.status.idle": "2021-11-11T05:18:05.507418Z",
          "shell.execute_reply": "2021-11-11T05:18:05.506845Z",
          "shell.execute_reply.started": "2021-11-05T03:21:56.524179Z"
        },
        "id": "9fdedba1",
        "outputId": "781a3e10-08f8-4f4c-fcb5-944b8e14e720",
        "papermill": {
          "duration": 0.113614,
          "end_time": "2021-11-11T05:18:05.507562",
          "exception": false,
          "start_time": "2021-11-11T05:18:05.393948",
          "status": "completed"
        },
        "tags": [],
        "colab": {
          "base_uri": "https://localhost:8080/",
          "height": 424
        }
      },
      "outputs": [
        {
          "output_type": "execute_result",
          "data": {
            "text/plain": [
              "     mean_radius  mean_texture  mean_perimeter  mean_area  mean_smoothness\n",
              "172       15.460         11.89          102.50      736.9          0.12570\n",
              "553        9.333         21.94           59.01      264.0          0.09240\n",
              "374       13.690         16.07           87.84      579.1          0.08302\n",
              "370       16.350         23.29          109.00      840.4          0.09742\n",
              "419       11.160         21.41           70.95      380.3          0.10180\n",
              "..           ...           ...             ...        ...              ...\n",
              "188       11.810         17.39           75.27      428.9          0.10070\n",
              "429       12.720         17.67           80.98      501.3          0.07896\n",
              "399       11.800         17.26           75.26      431.9          0.09087\n",
              "323       20.340         21.51          135.90     1264.0          0.11700\n",
              "262       17.290         22.13          114.40      947.8          0.08999\n",
              "\n",
              "[114 rows x 5 columns]"
            ],
            "text/html": [
              "\n",
              "  <div id=\"df-6a0c0376-4148-43db-8e36-ce80aeff295e\">\n",
              "    <div class=\"colab-df-container\">\n",
              "      <div>\n",
              "<style scoped>\n",
              "    .dataframe tbody tr th:only-of-type {\n",
              "        vertical-align: middle;\n",
              "    }\n",
              "\n",
              "    .dataframe tbody tr th {\n",
              "        vertical-align: top;\n",
              "    }\n",
              "\n",
              "    .dataframe thead th {\n",
              "        text-align: right;\n",
              "    }\n",
              "</style>\n",
              "<table border=\"1\" class=\"dataframe\">\n",
              "  <thead>\n",
              "    <tr style=\"text-align: right;\">\n",
              "      <th></th>\n",
              "      <th>mean_radius</th>\n",
              "      <th>mean_texture</th>\n",
              "      <th>mean_perimeter</th>\n",
              "      <th>mean_area</th>\n",
              "      <th>mean_smoothness</th>\n",
              "    </tr>\n",
              "  </thead>\n",
              "  <tbody>\n",
              "    <tr>\n",
              "      <th>172</th>\n",
              "      <td>15.460</td>\n",
              "      <td>11.89</td>\n",
              "      <td>102.50</td>\n",
              "      <td>736.9</td>\n",
              "      <td>0.12570</td>\n",
              "    </tr>\n",
              "    <tr>\n",
              "      <th>553</th>\n",
              "      <td>9.333</td>\n",
              "      <td>21.94</td>\n",
              "      <td>59.01</td>\n",
              "      <td>264.0</td>\n",
              "      <td>0.09240</td>\n",
              "    </tr>\n",
              "    <tr>\n",
              "      <th>374</th>\n",
              "      <td>13.690</td>\n",
              "      <td>16.07</td>\n",
              "      <td>87.84</td>\n",
              "      <td>579.1</td>\n",
              "      <td>0.08302</td>\n",
              "    </tr>\n",
              "    <tr>\n",
              "      <th>370</th>\n",
              "      <td>16.350</td>\n",
              "      <td>23.29</td>\n",
              "      <td>109.00</td>\n",
              "      <td>840.4</td>\n",
              "      <td>0.09742</td>\n",
              "    </tr>\n",
              "    <tr>\n",
              "      <th>419</th>\n",
              "      <td>11.160</td>\n",
              "      <td>21.41</td>\n",
              "      <td>70.95</td>\n",
              "      <td>380.3</td>\n",
              "      <td>0.10180</td>\n",
              "    </tr>\n",
              "    <tr>\n",
              "      <th>...</th>\n",
              "      <td>...</td>\n",
              "      <td>...</td>\n",
              "      <td>...</td>\n",
              "      <td>...</td>\n",
              "      <td>...</td>\n",
              "    </tr>\n",
              "    <tr>\n",
              "      <th>188</th>\n",
              "      <td>11.810</td>\n",
              "      <td>17.39</td>\n",
              "      <td>75.27</td>\n",
              "      <td>428.9</td>\n",
              "      <td>0.10070</td>\n",
              "    </tr>\n",
              "    <tr>\n",
              "      <th>429</th>\n",
              "      <td>12.720</td>\n",
              "      <td>17.67</td>\n",
              "      <td>80.98</td>\n",
              "      <td>501.3</td>\n",
              "      <td>0.07896</td>\n",
              "    </tr>\n",
              "    <tr>\n",
              "      <th>399</th>\n",
              "      <td>11.800</td>\n",
              "      <td>17.26</td>\n",
              "      <td>75.26</td>\n",
              "      <td>431.9</td>\n",
              "      <td>0.09087</td>\n",
              "    </tr>\n",
              "    <tr>\n",
              "      <th>323</th>\n",
              "      <td>20.340</td>\n",
              "      <td>21.51</td>\n",
              "      <td>135.90</td>\n",
              "      <td>1264.0</td>\n",
              "      <td>0.11700</td>\n",
              "    </tr>\n",
              "    <tr>\n",
              "      <th>262</th>\n",
              "      <td>17.290</td>\n",
              "      <td>22.13</td>\n",
              "      <td>114.40</td>\n",
              "      <td>947.8</td>\n",
              "      <td>0.08999</td>\n",
              "    </tr>\n",
              "  </tbody>\n",
              "</table>\n",
              "<p>114 rows × 5 columns</p>\n",
              "</div>\n",
              "      <button class=\"colab-df-convert\" onclick=\"convertToInteractive('df-6a0c0376-4148-43db-8e36-ce80aeff295e')\"\n",
              "              title=\"Convert this dataframe to an interactive table.\"\n",
              "              style=\"display:none;\">\n",
              "        \n",
              "  <svg xmlns=\"http://www.w3.org/2000/svg\" height=\"24px\"viewBox=\"0 0 24 24\"\n",
              "       width=\"24px\">\n",
              "    <path d=\"M0 0h24v24H0V0z\" fill=\"none\"/>\n",
              "    <path d=\"M18.56 5.44l.94 2.06.94-2.06 2.06-.94-2.06-.94-.94-2.06-.94 2.06-2.06.94zm-11 1L8.5 8.5l.94-2.06 2.06-.94-2.06-.94L8.5 2.5l-.94 2.06-2.06.94zm10 10l.94 2.06.94-2.06 2.06-.94-2.06-.94-.94-2.06-.94 2.06-2.06.94z\"/><path d=\"M17.41 7.96l-1.37-1.37c-.4-.4-.92-.59-1.43-.59-.52 0-1.04.2-1.43.59L10.3 9.45l-7.72 7.72c-.78.78-.78 2.05 0 2.83L4 21.41c.39.39.9.59 1.41.59.51 0 1.02-.2 1.41-.59l7.78-7.78 2.81-2.81c.8-.78.8-2.07 0-2.86zM5.41 20L4 18.59l7.72-7.72 1.47 1.35L5.41 20z\"/>\n",
              "  </svg>\n",
              "      </button>\n",
              "      \n",
              "  <style>\n",
              "    .colab-df-container {\n",
              "      display:flex;\n",
              "      flex-wrap:wrap;\n",
              "      gap: 12px;\n",
              "    }\n",
              "\n",
              "    .colab-df-convert {\n",
              "      background-color: #E8F0FE;\n",
              "      border: none;\n",
              "      border-radius: 50%;\n",
              "      cursor: pointer;\n",
              "      display: none;\n",
              "      fill: #1967D2;\n",
              "      height: 32px;\n",
              "      padding: 0 0 0 0;\n",
              "      width: 32px;\n",
              "    }\n",
              "\n",
              "    .colab-df-convert:hover {\n",
              "      background-color: #E2EBFA;\n",
              "      box-shadow: 0px 1px 2px rgba(60, 64, 67, 0.3), 0px 1px 3px 1px rgba(60, 64, 67, 0.15);\n",
              "      fill: #174EA6;\n",
              "    }\n",
              "\n",
              "    [theme=dark] .colab-df-convert {\n",
              "      background-color: #3B4455;\n",
              "      fill: #D2E3FC;\n",
              "    }\n",
              "\n",
              "    [theme=dark] .colab-df-convert:hover {\n",
              "      background-color: #434B5C;\n",
              "      box-shadow: 0px 1px 3px 1px rgba(0, 0, 0, 0.15);\n",
              "      filter: drop-shadow(0px 1px 2px rgba(0, 0, 0, 0.3));\n",
              "      fill: #FFFFFF;\n",
              "    }\n",
              "  </style>\n",
              "\n",
              "      <script>\n",
              "        const buttonEl =\n",
              "          document.querySelector('#df-6a0c0376-4148-43db-8e36-ce80aeff295e button.colab-df-convert');\n",
              "        buttonEl.style.display =\n",
              "          google.colab.kernel.accessAllowed ? 'block' : 'none';\n",
              "\n",
              "        async function convertToInteractive(key) {\n",
              "          const element = document.querySelector('#df-6a0c0376-4148-43db-8e36-ce80aeff295e');\n",
              "          const dataTable =\n",
              "            await google.colab.kernel.invokeFunction('convertToInteractive',\n",
              "                                                     [key], {});\n",
              "          if (!dataTable) return;\n",
              "\n",
              "          const docLinkHtml = 'Like what you see? Visit the ' +\n",
              "            '<a target=\"_blank\" href=https://colab.research.google.com/notebooks/data_table.ipynb>data table notebook</a>'\n",
              "            + ' to learn more about interactive tables.';\n",
              "          element.innerHTML = '';\n",
              "          dataTable['output_type'] = 'display_data';\n",
              "          await google.colab.output.renderOutput(dataTable, element);\n",
              "          const docLink = document.createElement('div');\n",
              "          docLink.innerHTML = docLinkHtml;\n",
              "          element.appendChild(docLink);\n",
              "        }\n",
              "      </script>\n",
              "    </div>\n",
              "  </div>\n",
              "  "
            ]
          },
          "metadata": {},
          "execution_count": 24
        }
      ],
      "source": [
        "X_test"
      ]
    },
    {
      "cell_type": "code",
      "execution_count": null,
      "id": "506f9236",
      "metadata": {
        "execution": {
          "iopub.execute_input": "2021-11-11T05:18:05.706510Z",
          "iopub.status.busy": "2021-11-11T05:18:05.705669Z",
          "iopub.status.idle": "2021-11-11T05:18:05.708897Z",
          "shell.execute_reply": "2021-11-11T05:18:05.709339Z",
          "shell.execute_reply.started": "2021-11-05T03:21:56.74713Z"
        },
        "id": "506f9236",
        "outputId": "2d306c48-07a0-4c02-ef7b-b1ebd3693e17",
        "papermill": {
          "duration": 0.105347,
          "end_time": "2021-11-11T05:18:05.709500",
          "exception": false,
          "start_time": "2021-11-11T05:18:05.604153",
          "status": "completed"
        },
        "tags": [],
        "colab": {
          "base_uri": "https://localhost:8080/"
        }
      },
      "outputs": [
        {
          "output_type": "execute_result",
          "data": {
            "text/plain": [
              "172    0\n",
              "553    1\n",
              "374    1\n",
              "370    0\n",
              "419    1\n",
              "      ..\n",
              "188    1\n",
              "429    1\n",
              "399    1\n",
              "323    0\n",
              "262    0\n",
              "Name: diagnosis, Length: 114, dtype: int64"
            ]
          },
          "metadata": {},
          "execution_count": 25
        }
      ],
      "source": [
        "Y_test"
      ]
    },
    {
      "cell_type": "code",
      "execution_count": null,
      "id": "5d18630a",
      "metadata": {
        "execution": {
          "iopub.execute_input": "2021-11-11T05:18:05.909218Z",
          "iopub.status.busy": "2021-11-11T05:18:05.908358Z",
          "iopub.status.idle": "2021-11-11T05:18:05.911406Z",
          "shell.execute_reply": "2021-11-11T05:18:05.911870Z",
          "shell.execute_reply.started": "2021-11-05T03:21:56.919934Z"
        },
        "id": "5d18630a",
        "outputId": "d50fdbb4-9c8d-4586-ee30-747a5ada7577",
        "papermill": {
          "duration": 0.106018,
          "end_time": "2021-11-11T05:18:05.912028",
          "exception": false,
          "start_time": "2021-11-11T05:18:05.806010",
          "status": "completed"
        },
        "tags": [],
        "colab": {
          "base_uri": "https://localhost:8080/"
        }
      },
      "outputs": [
        {
          "output_type": "execute_result",
          "data": {
            "text/plain": [
              "567    0\n",
              "295    1\n",
              "91     0\n",
              "1      0\n",
              "94     0\n",
              "      ..\n",
              "369    0\n",
              "320    1\n",
              "527    1\n",
              "125    1\n",
              "265    0\n",
              "Name: diagnosis, Length: 455, dtype: int64"
            ]
          },
          "metadata": {},
          "execution_count": 26
        }
      ],
      "source": [
        "Y_train"
      ]
    },
    {
      "cell_type": "markdown",
      "id": "0a54d314",
      "metadata": {
        "id": "0a54d314",
        "papermill": {
          "duration": 0.09794,
          "end_time": "2021-11-11T05:18:06.106685",
          "exception": false,
          "start_time": "2021-11-11T05:18:06.008745",
          "status": "completed"
        },
        "tags": []
      },
      "source": [
        "\n",
        "```\n",
        "\n",
        "## **Logistic Regression**"
      ]
    },
    {
      "cell_type": "code",
      "execution_count": null,
      "id": "85d02b1e",
      "metadata": {
        "execution": {
          "iopub.execute_input": "2021-11-11T05:18:06.304729Z",
          "iopub.status.busy": "2021-11-11T05:18:06.304096Z",
          "iopub.status.idle": "2021-11-11T05:18:06.378489Z",
          "shell.execute_reply": "2021-11-11T05:18:06.377503Z",
          "shell.execute_reply.started": "2021-11-05T03:21:57.332593Z"
        },
        "id": "85d02b1e",
        "papermill": {
          "duration": 0.174231,
          "end_time": "2021-11-11T05:18:06.378650",
          "exception": false,
          "start_time": "2021-11-11T05:18:06.204419",
          "status": "completed"
        },
        "tags": []
      },
      "outputs": [],
      "source": [
        "from sklearn.linear_model import LogisticRegression\n",
        "from sklearn.preprocessing import StandardScaler\n",
        "from sklearn.preprocessing import MinMaxScaler\n",
        "from sklearn.metrics import accuracy_score, PrecisionRecallDisplay, precision_score, recall_score,f1_score\n",
        "from sklearn.metrics import confusion_matrix, classification_report"
      ]
    },
    {
      "cell_type": "code",
      "execution_count": null,
      "id": "5acb3864",
      "metadata": {
        "execution": {
          "iopub.execute_input": "2021-11-11T05:18:06.578626Z",
          "iopub.status.busy": "2021-11-11T05:18:06.578018Z",
          "iopub.status.idle": "2021-11-11T05:18:06.596297Z",
          "shell.execute_reply": "2021-11-11T05:18:06.595638Z",
          "shell.execute_reply.started": "2021-11-05T03:21:57.532346Z"
        },
        "id": "5acb3864",
        "outputId": "ab1262b2-42d1-4318-939f-f5995043fdfe",
        "papermill": {
          "duration": 0.120421,
          "end_time": "2021-11-11T05:18:06.596433",
          "exception": false,
          "start_time": "2021-11-11T05:18:06.476012",
          "status": "completed"
        },
        "tags": [],
        "colab": {
          "base_uri": "https://localhost:8080/"
        }
      },
      "outputs": [
        {
          "output_type": "execute_result",
          "data": {
            "text/plain": [
              "0.9210526315789473"
            ]
          },
          "metadata": {},
          "execution_count": 55
        }
      ],
      "source": [
        "scaler = StandardScaler() # scaler is object of class StandardScaler\n",
        "X_train_scale = scaler.fit_transform(X_train) # standardizing training data x scale\n",
        "X_test_scale = scaler.transform(X_test) # standarding test data x scale\n",
        "logit_model = LogisticRegression()\n",
        "logit_model.fit(X_train_scale,Y_train)\n",
        "# learns mean and variance from the different columns\n",
        "X_pred = logit_model.predict(X_test_scale) # predicting for x test data set\n",
        "logit_model.score(X_test_scale,Y_test) # score gives the probability of the correct prediction given by our model for the test dataset"
      ]
    },
    {
      "cell_type": "code",
      "execution_count": null,
      "id": "0263909b",
      "metadata": {
        "execution": {
          "iopub.execute_input": "2021-11-11T05:18:06.796579Z",
          "iopub.status.busy": "2021-11-11T05:18:06.795962Z",
          "iopub.status.idle": "2021-11-11T05:18:06.803162Z",
          "shell.execute_reply": "2021-11-11T05:18:06.803625Z",
          "shell.execute_reply.started": "2021-11-05T03:21:58.067485Z"
        },
        "id": "0263909b",
        "outputId": "4d0e7cee-e8b6-4628-8d65-b7c7937e861b",
        "papermill": {
          "duration": 0.108383,
          "end_time": "2021-11-11T05:18:06.803793",
          "exception": false,
          "start_time": "2021-11-11T05:18:06.695410",
          "status": "completed"
        },
        "tags": [],
        "colab": {
          "base_uri": "https://localhost:8080/"
        }
      },
      "outputs": [
        {
          "output_type": "execute_result",
          "data": {
            "text/plain": [
              "array([[35,  5],\n",
              "       [ 4, 70]])"
            ]
          },
          "metadata": {},
          "execution_count": 56
        }
      ],
      "source": [
        "confusion_matrix(X_pred,Y_test)"
      ]
    },
    {
      "cell_type": "code",
      "execution_count": null,
      "id": "5350b4f8",
      "metadata": {
        "execution": {
          "iopub.execute_input": "2021-11-11T05:18:07.005038Z",
          "iopub.status.busy": "2021-11-11T05:18:07.004301Z",
          "iopub.status.idle": "2021-11-11T05:18:07.008268Z",
          "shell.execute_reply": "2021-11-11T05:18:07.008848Z",
          "shell.execute_reply.started": "2021-11-05T03:21:58.322246Z"
        },
        "id": "5350b4f8",
        "outputId": "7cc75fb0-38c3-43f5-f527-4f81082dfb0c",
        "papermill": {
          "duration": 0.107657,
          "end_time": "2021-11-11T05:18:07.009023",
          "exception": false,
          "start_time": "2021-11-11T05:18:06.901366",
          "status": "completed"
        },
        "tags": [],
        "colab": {
          "base_uri": "https://localhost:8080/"
        }
      },
      "outputs": [
        {
          "output_type": "execute_result",
          "data": {
            "text/plain": [
              "0.9210526315789473"
            ]
          },
          "metadata": {},
          "execution_count": 30
        }
      ],
      "source": [
        "accuracy_score(X_pred,Y_test)"
      ]
    },
    {
      "cell_type": "code",
      "execution_count": null,
      "id": "d111c379",
      "metadata": {
        "execution": {
          "iopub.execute_input": "2021-11-11T05:18:07.218214Z",
          "iopub.status.busy": "2021-11-11T05:18:07.217052Z",
          "iopub.status.idle": "2021-11-11T05:18:07.227933Z",
          "shell.execute_reply": "2021-11-11T05:18:07.227426Z",
          "shell.execute_reply.started": "2021-11-05T03:21:58.520089Z"
        },
        "id": "d111c379",
        "outputId": "f02bbea8-3dc7-43ae-f0a6-bff7c34710eb",
        "papermill": {
          "duration": 0.119032,
          "end_time": "2021-11-11T05:18:07.228067",
          "exception": false,
          "start_time": "2021-11-11T05:18:07.109035",
          "status": "completed"
        },
        "tags": [],
        "colab": {
          "base_uri": "https://localhost:8080/"
        }
      },
      "outputs": [
        {
          "output_type": "execute_result",
          "data": {
            "text/plain": [
              "0.8859649122807017"
            ]
          },
          "metadata": {},
          "execution_count": 57
        }
      ],
      "source": [
        "MinMaxscaler = MinMaxScaler()\n",
        "X_train_scale = MinMaxscaler.fit_transform(X_train)\n",
        "X_test_scale = MinMaxscaler.transform(X_test)\n",
        "logit_model = LogisticRegression()\n",
        "logit_model.fit(X_train_scale,Y_train)\n",
        "Y_pred = logit_model.predict(X_test_scale)\n",
        "logit_model.score(X_test_scale,Y_test)"
      ]
    },
    {
      "cell_type": "code",
      "execution_count": null,
      "id": "8459b8a3",
      "metadata": {
        "execution": {
          "iopub.execute_input": "2021-11-11T05:18:07.428584Z",
          "iopub.status.busy": "2021-11-11T05:18:07.427997Z",
          "iopub.status.idle": "2021-11-11T05:18:07.432071Z",
          "shell.execute_reply": "2021-11-11T05:18:07.432571Z",
          "shell.execute_reply.started": "2021-11-05T03:21:58.823096Z"
        },
        "id": "8459b8a3",
        "papermill": {
          "duration": 0.105808,
          "end_time": "2021-11-11T05:18:07.432738",
          "exception": false,
          "start_time": "2021-11-11T05:18:07.326930",
          "status": "completed"
        },
        "tags": []
      },
      "outputs": [],
      "source": [
        "logit_confusion = confusion_matrix(Y_test,Y_pred)"
      ]
    },
    {
      "cell_type": "code",
      "execution_count": null,
      "id": "4098c066",
      "metadata": {
        "execution": {
          "iopub.execute_input": "2021-11-11T05:18:07.633474Z",
          "iopub.status.busy": "2021-11-11T05:18:07.632864Z",
          "iopub.status.idle": "2021-11-11T05:18:07.637216Z",
          "shell.execute_reply": "2021-11-11T05:18:07.637704Z",
          "shell.execute_reply.started": "2021-11-05T03:21:59.071982Z"
        },
        "id": "4098c066",
        "outputId": "44be9aa9-dbd5-410e-fd8e-c2691d5dc74b",
        "papermill": {
          "duration": 0.105659,
          "end_time": "2021-11-11T05:18:07.637864",
          "exception": false,
          "start_time": "2021-11-11T05:18:07.532205",
          "status": "completed"
        },
        "tags": [],
        "colab": {
          "base_uri": "https://localhost:8080/"
        }
      },
      "outputs": [
        {
          "output_type": "execute_result",
          "data": {
            "text/plain": [
              "array([[30,  9],\n",
              "       [ 4, 71]])"
            ]
          },
          "metadata": {},
          "execution_count": 33
        }
      ],
      "source": [
        "logit_confusion"
      ]
    },
    {
      "cell_type": "code",
      "execution_count": null,
      "id": "4554c045",
      "metadata": {
        "execution": {
          "iopub.execute_input": "2021-11-11T05:18:07.838491Z",
          "iopub.status.busy": "2021-11-11T05:18:07.837855Z",
          "iopub.status.idle": "2021-11-11T05:18:07.844484Z",
          "shell.execute_reply": "2021-11-11T05:18:07.843961Z",
          "shell.execute_reply.started": "2021-11-05T03:21:59.361963Z"
        },
        "id": "4554c045",
        "outputId": "4165e6eb-556e-4075-c78a-1d43476f6d67",
        "papermill": {
          "duration": 0.108395,
          "end_time": "2021-11-11T05:18:07.844635",
          "exception": false,
          "start_time": "2021-11-11T05:18:07.736240",
          "status": "completed"
        },
        "tags": [],
        "colab": {
          "base_uri": "https://localhost:8080/"
        }
      },
      "outputs": [
        {
          "output_type": "execute_result",
          "data": {
            "text/plain": [
              "0.8875"
            ]
          },
          "metadata": {},
          "execution_count": 34
        }
      ],
      "source": [
        "precision_score(Y_test,Y_pred)"
      ]
    },
    {
      "cell_type": "code",
      "execution_count": null,
      "id": "b149dc8f",
      "metadata": {
        "execution": {
          "iopub.execute_input": "2021-11-11T05:18:08.047392Z",
          "iopub.status.busy": "2021-11-11T05:18:08.046754Z",
          "iopub.status.idle": "2021-11-11T05:18:08.052092Z",
          "shell.execute_reply": "2021-11-11T05:18:08.052537Z",
          "shell.execute_reply.started": "2021-11-05T03:21:59.618508Z"
        },
        "id": "b149dc8f",
        "outputId": "6baaa9fe-d655-420d-a53e-773543621138",
        "papermill": {
          "duration": 0.107895,
          "end_time": "2021-11-11T05:18:08.052717",
          "exception": false,
          "start_time": "2021-11-11T05:18:07.944822",
          "status": "completed"
        },
        "tags": [],
        "colab": {
          "base_uri": "https://localhost:8080/"
        }
      },
      "outputs": [
        {
          "output_type": "execute_result",
          "data": {
            "text/plain": [
              "0.9466666666666667"
            ]
          },
          "metadata": {},
          "execution_count": 35
        }
      ],
      "source": [
        "recall_score(Y_test,Y_pred)"
      ]
    },
    {
      "cell_type": "code",
      "execution_count": null,
      "id": "276aac3a",
      "metadata": {
        "execution": {
          "iopub.execute_input": "2021-11-11T05:18:08.255355Z",
          "iopub.status.busy": "2021-11-11T05:18:08.254741Z",
          "iopub.status.idle": "2021-11-11T05:18:08.260125Z",
          "shell.execute_reply": "2021-11-11T05:18:08.260602Z",
          "shell.execute_reply.started": "2021-11-05T03:22:00.114903Z"
        },
        "id": "276aac3a",
        "outputId": "e3fa093c-5126-4230-f9a5-5cf129869670",
        "papermill": {
          "duration": 0.107805,
          "end_time": "2021-11-11T05:18:08.260768",
          "exception": false,
          "start_time": "2021-11-11T05:18:08.152963",
          "status": "completed"
        },
        "tags": [],
        "colab": {
          "base_uri": "https://localhost:8080/"
        }
      },
      "outputs": [
        {
          "output_type": "execute_result",
          "data": {
            "text/plain": [
              "0.9161290322580645"
            ]
          },
          "metadata": {},
          "execution_count": 36
        }
      ],
      "source": [
        "f1_score(Y_test,Y_pred)"
      ]
    },
    {
      "cell_type": "markdown",
      "id": "ffba3c47",
      "metadata": {
        "id": "ffba3c47",
        "papermill": {
          "duration": 0.099216,
          "end_time": "2021-11-11T05:18:08.459158",
          "exception": false,
          "start_time": "2021-11-11T05:18:08.359942",
          "status": "completed"
        },
        "tags": []
      },
      "source": [
        "##Random Forest"
      ]
    },
    {
      "cell_type": "code",
      "execution_count": null,
      "id": "9cc45445",
      "metadata": {
        "execution": {
          "iopub.execute_input": "2021-11-11T05:18:08.662270Z",
          "iopub.status.busy": "2021-11-11T05:18:08.661626Z",
          "iopub.status.idle": "2021-11-11T05:18:08.769651Z",
          "shell.execute_reply": "2021-11-11T05:18:08.770142Z",
          "shell.execute_reply.started": "2021-11-05T03:22:01.073911Z"
        },
        "id": "9cc45445",
        "papermill": {
          "duration": 0.211906,
          "end_time": "2021-11-11T05:18:08.770308",
          "exception": false,
          "start_time": "2021-11-11T05:18:08.558402",
          "status": "completed"
        },
        "tags": []
      },
      "outputs": [],
      "source": [
        "from sklearn.ensemble import RandomForestClassifier"
      ]
    },
    {
      "cell_type": "code",
      "execution_count": null,
      "id": "405b50fd",
      "metadata": {
        "execution": {
          "iopub.execute_input": "2021-11-11T05:18:08.973304Z",
          "iopub.status.busy": "2021-11-11T05:18:08.972716Z",
          "iopub.status.idle": "2021-11-11T05:18:09.145013Z",
          "shell.execute_reply": "2021-11-11T05:18:09.145459Z",
          "shell.execute_reply.started": "2021-11-05T03:22:01.610681Z"
        },
        "id": "405b50fd",
        "papermill": {
          "duration": 0.275139,
          "end_time": "2021-11-11T05:18:09.145659",
          "exception": false,
          "start_time": "2021-11-11T05:18:08.870520",
          "status": "completed"
        },
        "tags": []
      },
      "outputs": [],
      "source": [
        "forest_model_test = RandomForestClassifier(max_depth=40,random_state=42)\n",
        "forest_model_test.fit(X_train,Y_train)\n",
        "Y_random_model_test =forest_model_test.predict(X_test)"
      ]
    },
    {
      "cell_type": "code",
      "execution_count": null,
      "id": "36faedf4",
      "metadata": {
        "execution": {
          "iopub.execute_input": "2021-11-11T05:18:09.347939Z",
          "iopub.status.busy": "2021-11-11T05:18:09.347287Z",
          "iopub.status.idle": "2021-11-11T05:19:13.624697Z",
          "shell.execute_reply": "2021-11-11T05:19:13.625204Z",
          "shell.execute_reply.started": "2021-11-05T03:22:02.052288Z"
        },
        "id": "36faedf4",
        "outputId": "11842d77-bd4d-4b16-8732-207a9ce5a441",
        "papermill": {
          "duration": 64.380702,
          "end_time": "2021-11-11T05:19:13.625373",
          "exception": false,
          "start_time": "2021-11-11T05:18:09.244671",
          "status": "completed"
        },
        "tags": [],
        "colab": {
          "base_uri": "https://localhost:8080/"
        }
      },
      "outputs": [
        {
          "output_type": "execute_result",
          "data": {
            "text/plain": [
              "GridSearchCV(cv=10,\n",
              "             estimator=RandomForestClassifier(max_depth=40, random_state=42),\n",
              "             n_jobs=-1,\n",
              "             param_grid={'max_depth': [10, 20, 40, 70],\n",
              "                         'n_estimators': [500, 700, 1000]},\n",
              "             scoring='f1')"
            ]
          },
          "metadata": {},
          "execution_count": 39
        }
      ],
      "source": [
        "forest_param = {'n_estimators':[500,700,1000],'max_depth':[10,20,40,70]}\n",
        "forest_Gridsearch = GridSearchCV(estimator=forest_model_test,param_grid=forest_param,cv=10,scoring='f1',n_jobs=-1)\n",
        "forest_Gridsearch.fit(X_train,Y_train)"
      ]
    },
    {
      "cell_type": "code",
      "execution_count": null,
      "id": "783a7b89",
      "metadata": {
        "execution": {
          "iopub.execute_input": "2021-11-11T05:19:13.829443Z",
          "iopub.status.busy": "2021-11-11T05:19:13.828493Z",
          "iopub.status.idle": "2021-11-11T05:19:13.833781Z",
          "shell.execute_reply": "2021-11-11T05:19:13.834325Z",
          "shell.execute_reply.started": "2021-11-05T03:23:16.350849Z"
        },
        "id": "783a7b89",
        "outputId": "81aa256d-eb75-4559-b742-22d8bf503fff",
        "papermill": {
          "duration": 0.109737,
          "end_time": "2021-11-11T05:19:13.834483",
          "exception": false,
          "start_time": "2021-11-11T05:19:13.724746",
          "status": "completed"
        },
        "tags": [],
        "colab": {
          "base_uri": "https://localhost:8080/"
        }
      },
      "outputs": [
        {
          "output_type": "execute_result",
          "data": {
            "text/plain": [
              "{'max_depth': 10, 'n_estimators': 700}"
            ]
          },
          "metadata": {},
          "execution_count": 40
        }
      ],
      "source": [
        "forest_Gridsearch.best_params_"
      ]
    },
    {
      "cell_type": "code",
      "execution_count": null,
      "id": "0ad621ca",
      "metadata": {
        "execution": {
          "iopub.execute_input": "2021-11-11T05:19:14.040352Z",
          "iopub.status.busy": "2021-11-11T05:19:14.039452Z",
          "iopub.status.idle": "2021-11-11T05:19:14.043119Z",
          "shell.execute_reply": "2021-11-11T05:19:14.043658Z",
          "shell.execute_reply.started": "2021-11-05T03:23:16.35772Z"
        },
        "id": "0ad621ca",
        "papermill": {
          "duration": 0.107464,
          "end_time": "2021-11-11T05:19:14.043822",
          "exception": false,
          "start_time": "2021-11-11T05:19:13.936358",
          "status": "completed"
        },
        "tags": []
      },
      "outputs": [],
      "source": [
        "forest_model_best= RandomForestClassifier(n_estimators=700,max_depth=10)"
      ]
    },
    {
      "cell_type": "code",
      "execution_count": null,
      "id": "aca92c91",
      "metadata": {
        "execution": {
          "iopub.execute_input": "2021-11-11T05:19:14.248903Z",
          "iopub.status.busy": "2021-11-11T05:19:14.248074Z",
          "iopub.status.idle": "2021-11-11T05:19:15.332341Z",
          "shell.execute_reply": "2021-11-11T05:19:15.331776Z",
          "shell.execute_reply.started": "2021-11-05T03:23:46.373664Z"
        },
        "id": "aca92c91",
        "outputId": "20d1e5f4-0ebd-48b5-dd13-6a1908d654b9",
        "papermill": {
          "duration": 1.186475,
          "end_time": "2021-11-11T05:19:15.332480",
          "exception": false,
          "start_time": "2021-11-11T05:19:14.146005",
          "status": "completed"
        },
        "tags": [],
        "colab": {
          "base_uri": "https://localhost:8080/"
        }
      },
      "outputs": [
        {
          "output_type": "execute_result",
          "data": {
            "text/plain": [
              "RandomForestClassifier(max_depth=10, n_estimators=700)"
            ]
          },
          "metadata": {},
          "execution_count": 42
        }
      ],
      "source": [
        "forest_model_best.fit(X_train,Y_train)"
      ]
    },
    {
      "cell_type": "code",
      "execution_count": null,
      "id": "d64f1809",
      "metadata": {
        "execution": {
          "iopub.execute_input": "2021-11-11T05:19:15.541481Z",
          "iopub.status.busy": "2021-11-11T05:19:15.540492Z",
          "iopub.status.idle": "2021-11-11T05:19:15.609473Z",
          "shell.execute_reply": "2021-11-11T05:19:15.608940Z",
          "shell.execute_reply.started": "2021-11-05T03:23:47.828418Z"
        },
        "id": "d64f1809",
        "papermill": {
          "duration": 0.177164,
          "end_time": "2021-11-11T05:19:15.609641",
          "exception": false,
          "start_time": "2021-11-11T05:19:15.432477",
          "status": "completed"
        },
        "tags": []
      },
      "outputs": [],
      "source": [
        "Y_random_model =forest_model_best.predict(X_test)"
      ]
    },
    {
      "cell_type": "code",
      "execution_count": null,
      "id": "96e20fb0",
      "metadata": {
        "execution": {
          "iopub.execute_input": "2021-11-11T05:19:15.812672Z",
          "iopub.status.busy": "2021-11-11T05:19:15.811737Z",
          "iopub.status.idle": "2021-11-11T05:19:15.816231Z",
          "shell.execute_reply": "2021-11-11T05:19:15.816710Z",
          "shell.execute_reply.started": "2021-11-05T03:23:47.902453Z"
        },
        "id": "96e20fb0",
        "papermill": {
          "duration": 0.107651,
          "end_time": "2021-11-11T05:19:15.816881",
          "exception": false,
          "start_time": "2021-11-11T05:19:15.709230",
          "status": "completed"
        },
        "tags": []
      },
      "outputs": [],
      "source": [
        "forest_confusion = confusion_matrix(Y_random_model,Y_test)"
      ]
    },
    {
      "cell_type": "code",
      "execution_count": null,
      "id": "366f5d92",
      "metadata": {
        "execution": {
          "iopub.execute_input": "2021-11-11T05:19:16.023487Z",
          "iopub.status.busy": "2021-11-11T05:19:16.021365Z",
          "iopub.status.idle": "2021-11-11T05:19:16.026675Z",
          "shell.execute_reply": "2021-11-11T05:19:16.026195Z",
          "shell.execute_reply.started": "2021-11-05T03:23:47.90988Z"
        },
        "id": "366f5d92",
        "outputId": "89dc1739-4e43-4111-eba7-7d54d7d9776e",
        "papermill": {
          "duration": 0.108522,
          "end_time": "2021-11-11T05:19:16.026804",
          "exception": false,
          "start_time": "2021-11-11T05:19:15.918282",
          "status": "completed"
        },
        "tags": [],
        "colab": {
          "base_uri": "https://localhost:8080/"
        }
      },
      "outputs": [
        {
          "output_type": "execute_result",
          "data": {
            "text/plain": [
              "array([[33,  5],\n",
              "       [ 6, 70]])"
            ]
          },
          "metadata": {},
          "execution_count": 45
        }
      ],
      "source": [
        "forest_confusion"
      ]
    },
    {
      "cell_type": "code",
      "execution_count": null,
      "id": "0ed8de79",
      "metadata": {
        "execution": {
          "iopub.execute_input": "2021-11-11T05:19:16.235742Z",
          "iopub.status.busy": "2021-11-11T05:19:16.235105Z",
          "iopub.status.idle": "2021-11-11T05:19:16.302383Z",
          "shell.execute_reply": "2021-11-11T05:19:16.301906Z",
          "shell.execute_reply.started": "2021-11-05T03:24:00.475206Z"
        },
        "id": "0ed8de79",
        "outputId": "daeac4cf-247a-4af8-cfc2-a0a203b74f20",
        "papermill": {
          "duration": 0.173688,
          "end_time": "2021-11-11T05:19:16.302526",
          "exception": false,
          "start_time": "2021-11-11T05:19:16.128838",
          "status": "completed"
        },
        "tags": [],
        "colab": {
          "base_uri": "https://localhost:8080/"
        }
      },
      "outputs": [
        {
          "output_type": "execute_result",
          "data": {
            "text/plain": [
              "0.9035087719298246"
            ]
          },
          "metadata": {},
          "execution_count": 46
        }
      ],
      "source": [
        "forest_model_best.score(X_test,Y_test)"
      ]
    },
    {
      "cell_type": "code",
      "execution_count": null,
      "id": "46794cb9",
      "metadata": {
        "execution": {
          "iopub.execute_input": "2021-11-11T05:19:16.509643Z",
          "iopub.status.busy": "2021-11-11T05:19:16.508722Z",
          "iopub.status.idle": "2021-11-11T05:19:16.516022Z",
          "shell.execute_reply": "2021-11-11T05:19:16.515500Z",
          "shell.execute_reply.started": "2021-11-05T03:24:01.104017Z"
        },
        "id": "46794cb9",
        "outputId": "cf9fe18c-8454-4404-ebfc-70795041f6b7",
        "papermill": {
          "duration": 0.111813,
          "end_time": "2021-11-11T05:19:16.516163",
          "exception": false,
          "start_time": "2021-11-11T05:19:16.404350",
          "status": "completed"
        },
        "tags": [],
        "colab": {
          "base_uri": "https://localhost:8080/"
        }
      },
      "outputs": [
        {
          "output_type": "execute_result",
          "data": {
            "text/plain": [
              "0.9210526315789473"
            ]
          },
          "metadata": {},
          "execution_count": 47
        }
      ],
      "source": [
        "precision_score(Y_test,Y_random_model)\n"
      ]
    },
    {
      "cell_type": "code",
      "execution_count": null,
      "id": "f6868f19",
      "metadata": {
        "execution": {
          "iopub.execute_input": "2021-11-11T05:19:16.734250Z",
          "iopub.status.busy": "2021-11-11T05:19:16.733672Z",
          "iopub.status.idle": "2021-11-11T05:19:16.739309Z",
          "shell.execute_reply": "2021-11-11T05:19:16.739838Z",
          "shell.execute_reply.started": "2021-11-05T03:24:01.967155Z"
        },
        "id": "f6868f19",
        "outputId": "8267a150-20f7-42d4-ba77-0adabaa0c6c5",
        "papermill": {
          "duration": 0.111349,
          "end_time": "2021-11-11T05:19:16.740019",
          "exception": false,
          "start_time": "2021-11-11T05:19:16.628670",
          "status": "completed"
        },
        "tags": [],
        "colab": {
          "base_uri": "https://localhost:8080/"
        }
      },
      "outputs": [
        {
          "output_type": "execute_result",
          "data": {
            "text/plain": [
              "0.9333333333333333"
            ]
          },
          "metadata": {},
          "execution_count": 48
        }
      ],
      "source": [
        "recall_score(Y_test,Y_random_model)"
      ]
    },
    {
      "cell_type": "code",
      "execution_count": null,
      "id": "6cd0e918",
      "metadata": {
        "execution": {
          "iopub.execute_input": "2021-11-11T05:19:16.946470Z",
          "iopub.status.busy": "2021-11-11T05:19:16.945865Z",
          "iopub.status.idle": "2021-11-11T05:19:16.949481Z",
          "shell.execute_reply": "2021-11-11T05:19:16.950002Z",
          "shell.execute_reply.started": "2021-11-05T03:24:02.531394Z"
        },
        "id": "6cd0e918",
        "papermill": {
          "duration": 0.108166,
          "end_time": "2021-11-11T05:19:16.950160",
          "exception": false,
          "start_time": "2021-11-11T05:19:16.841994",
          "status": "completed"
        },
        "tags": []
      },
      "outputs": [],
      "source": [
        "False_negative_rate_Forest = forest_confusion[1][0]/(forest_confusion[1][0]+forest_confusion[1][1])"
      ]
    },
    {
      "cell_type": "code",
      "execution_count": null,
      "id": "931b3bb9",
      "metadata": {
        "execution": {
          "iopub.execute_input": "2021-11-11T05:19:17.159098Z",
          "iopub.status.busy": "2021-11-11T05:19:17.158433Z",
          "iopub.status.idle": "2021-11-11T05:19:17.160871Z",
          "shell.execute_reply": "2021-11-11T05:19:17.161328Z",
          "shell.execute_reply.started": "2021-11-05T03:24:02.944599Z"
        },
        "id": "931b3bb9",
        "outputId": "e118e430-0c28-4e90-d873-8b1eae1e4a79",
        "papermill": {
          "duration": 0.110599,
          "end_time": "2021-11-11T05:19:17.161487",
          "exception": false,
          "start_time": "2021-11-11T05:19:17.050888",
          "status": "completed"
        },
        "tags": [],
        "colab": {
          "base_uri": "https://localhost:8080/"
        }
      },
      "outputs": [
        {
          "output_type": "execute_result",
          "data": {
            "text/plain": [
              "7.894736842105263"
            ]
          },
          "metadata": {},
          "execution_count": 51
        }
      ],
      "source": [
        "False_negative_rate_Forest*100"
      ]
    },
    {
      "cell_type": "markdown",
      "id": "2a7e3ec9",
      "metadata": {
        "id": "2a7e3ec9",
        "papermill": {
          "duration": 0.101043,
          "end_time": "2021-11-11T05:19:17.364663",
          "exception": false,
          "start_time": "2021-11-11T05:19:17.263620",
          "status": "completed"
        },
        "tags": []
      },
      "source": [
        "# **K** Nearest Neighbour"
      ]
    },
    {
      "cell_type": "code",
      "execution_count": null,
      "id": "3ce78a39",
      "metadata": {
        "execution": {
          "iopub.execute_input": "2021-11-11T05:19:17.571529Z",
          "iopub.status.busy": "2021-11-11T05:19:17.570916Z",
          "iopub.status.idle": "2021-11-11T05:19:17.574129Z",
          "shell.execute_reply": "2021-11-11T05:19:17.574582Z",
          "shell.execute_reply.started": "2021-11-05T03:24:03.979226Z"
        },
        "id": "3ce78a39",
        "papermill": {
          "duration": 0.108585,
          "end_time": "2021-11-11T05:19:17.574745",
          "exception": false,
          "start_time": "2021-11-11T05:19:17.466160",
          "status": "completed"
        },
        "tags": []
      },
      "outputs": [],
      "source": [
        "from sklearn.neighbors import KNeighborsClassifier"
      ]
    },
    {
      "cell_type": "code",
      "execution_count": null,
      "id": "22f69710",
      "metadata": {
        "execution": {
          "iopub.execute_input": "2021-11-11T05:19:17.782336Z",
          "iopub.status.busy": "2021-11-11T05:19:17.781742Z",
          "iopub.status.idle": "2021-11-11T05:19:17.790670Z",
          "shell.execute_reply": "2021-11-11T05:19:17.791141Z",
          "shell.execute_reply.started": "2021-11-05T03:24:04.381186Z"
        },
        "id": "22f69710",
        "papermill": {
          "duration": 0.115364,
          "end_time": "2021-11-11T05:19:17.791326",
          "exception": false,
          "start_time": "2021-11-11T05:19:17.675962",
          "status": "completed"
        },
        "tags": []
      },
      "outputs": [],
      "source": [
        "KNN_model = KNeighborsClassifier(n_neighbors=10)\n",
        "KNN_model.fit(X_train_scale,Y_train)\n",
        "Y_KNN =KNN_model.predict(X_test_scale)"
      ]
    },
    {
      "cell_type": "code",
      "execution_count": null,
      "id": "37e57b0c",
      "metadata": {
        "execution": {
          "iopub.execute_input": "2021-11-11T05:19:17.998348Z",
          "iopub.status.busy": "2021-11-11T05:19:17.997487Z",
          "iopub.status.idle": "2021-11-11T05:19:18.000458Z",
          "shell.execute_reply": "2021-11-11T05:19:17.999897Z",
          "shell.execute_reply.started": "2021-11-05T03:24:04.698903Z"
        },
        "id": "37e57b0c",
        "papermill": {
          "duration": 0.108494,
          "end_time": "2021-11-11T05:19:18.000625",
          "exception": false,
          "start_time": "2021-11-11T05:19:17.892131",
          "status": "completed"
        },
        "tags": []
      },
      "outputs": [],
      "source": [
        "KNN_Confusion = confusion_matrix(Y_KNN,Y_test)\n",
        "# Confusion matrix between actual results and the predications made by naive model\n",
        "# The model in naive because we don't know yet that making group of 10 neighbours will give us the highest accuracy"
      ]
    },
    {
      "cell_type": "code",
      "execution_count": null,
      "id": "8ac5e075",
      "metadata": {
        "execution": {
          "iopub.execute_input": "2021-11-11T05:19:18.210826Z",
          "iopub.status.busy": "2021-11-11T05:19:18.210166Z",
          "iopub.status.idle": "2021-11-11T05:19:18.212504Z",
          "shell.execute_reply": "2021-11-11T05:19:18.212961Z",
          "shell.execute_reply.started": "2021-11-05T03:24:05.212314Z"
        },
        "id": "8ac5e075",
        "outputId": "76f8d97a-240f-4728-9833-168c6c1585a5",
        "papermill": {
          "duration": 0.11076,
          "end_time": "2021-11-11T05:19:18.213122",
          "exception": false,
          "start_time": "2021-11-11T05:19:18.102362",
          "status": "completed"
        },
        "tags": [],
        "colab": {
          "base_uri": "https://localhost:8080/"
        }
      },
      "outputs": [
        {
          "output_type": "execute_result",
          "data": {
            "text/plain": [
              "array([[32,  3],\n",
              "       [ 7, 72]])"
            ]
          },
          "metadata": {},
          "execution_count": 58
        }
      ],
      "source": [
        "KNN_Confusion"
      ]
    },
    {
      "cell_type": "code",
      "execution_count": null,
      "id": "a2e68c84",
      "metadata": {
        "execution": {
          "iopub.execute_input": "2021-11-11T05:19:18.419103Z",
          "iopub.status.busy": "2021-11-11T05:19:18.418205Z",
          "iopub.status.idle": "2021-11-11T05:19:18.423504Z",
          "shell.execute_reply": "2021-11-11T05:19:18.424042Z",
          "shell.execute_reply.started": "2021-11-05T03:24:05.674035Z"
        },
        "id": "a2e68c84",
        "outputId": "7345d26e-eb93-4cd0-c8ad-f5a437893c74",
        "papermill": {
          "duration": 0.109786,
          "end_time": "2021-11-11T05:19:18.424197",
          "exception": false,
          "start_time": "2021-11-11T05:19:18.314411",
          "status": "completed"
        },
        "tags": [],
        "colab": {
          "base_uri": "https://localhost:8080/"
        }
      },
      "outputs": [
        {
          "output_type": "execute_result",
          "data": {
            "text/plain": [
              "0.9122807017543859"
            ]
          },
          "metadata": {},
          "execution_count": 59
        }
      ],
      "source": [
        "accuracy_score(Y_test,Y_KNN)"
      ]
    },
    {
      "cell_type": "code",
      "execution_count": null,
      "id": "234d6b50",
      "metadata": {
        "execution": {
          "iopub.execute_input": "2021-11-11T05:19:18.633082Z",
          "iopub.status.busy": "2021-11-11T05:19:18.632166Z",
          "iopub.status.idle": "2021-11-11T05:19:18.638347Z",
          "shell.execute_reply": "2021-11-11T05:19:18.638796Z",
          "shell.execute_reply.started": "2021-11-05T03:24:05.954586Z"
        },
        "id": "234d6b50",
        "outputId": "ee494900-1f23-49ec-ce5d-3a863e57fbf8",
        "papermill": {
          "duration": 0.113045,
          "end_time": "2021-11-11T05:19:18.638957",
          "exception": false,
          "start_time": "2021-11-11T05:19:18.525912",
          "status": "completed"
        },
        "tags": [],
        "colab": {
          "base_uri": "https://localhost:8080/"
        }
      },
      "outputs": [
        {
          "output_type": "execute_result",
          "data": {
            "text/plain": [
              "0.96"
            ]
          },
          "metadata": {},
          "execution_count": 60
        }
      ],
      "source": [
        "recall_score(Y_test,Y_KNN)"
      ]
    },
    {
      "cell_type": "code",
      "execution_count": null,
      "id": "9e2de596",
      "metadata": {
        "execution": {
          "iopub.execute_input": "2021-11-11T05:19:18.844824Z",
          "iopub.status.busy": "2021-11-11T05:19:18.843928Z",
          "iopub.status.idle": "2021-11-11T05:19:18.850002Z",
          "shell.execute_reply": "2021-11-11T05:19:18.850444Z",
          "shell.execute_reply.started": "2021-11-05T03:24:06.258934Z"
        },
        "id": "9e2de596",
        "outputId": "43af774d-6d9a-4238-e814-5364fd186b6a",
        "papermill": {
          "duration": 0.11028,
          "end_time": "2021-11-11T05:19:18.850623",
          "exception": false,
          "start_time": "2021-11-11T05:19:18.740343",
          "status": "completed"
        },
        "tags": [],
        "colab": {
          "base_uri": "https://localhost:8080/"
        }
      },
      "outputs": [
        {
          "output_type": "execute_result",
          "data": {
            "text/plain": [
              "0.9113924050632911"
            ]
          },
          "metadata": {},
          "execution_count": 61
        }
      ],
      "source": [
        "precision_score(Y_test,Y_KNN)"
      ]
    },
    {
      "cell_type": "code",
      "execution_count": null,
      "id": "7b7f88f8",
      "metadata": {
        "execution": {
          "iopub.execute_input": "2021-11-11T05:19:19.059899Z",
          "iopub.status.busy": "2021-11-11T05:19:19.058971Z",
          "iopub.status.idle": "2021-11-11T05:19:19.510904Z",
          "shell.execute_reply": "2021-11-11T05:19:19.511519Z",
          "shell.execute_reply.started": "2021-11-05T03:24:06.675987Z"
        },
        "id": "7b7f88f8",
        "outputId": "8b6df2f4-1b8d-425e-8ad0-83b0ccd253cd",
        "papermill": {
          "duration": 0.557935,
          "end_time": "2021-11-11T05:19:19.511711",
          "exception": false,
          "start_time": "2021-11-11T05:19:18.953776",
          "status": "completed"
        },
        "tags": [],
        "colab": {
          "base_uri": "https://localhost:8080/"
        }
      },
      "outputs": [
        {
          "output_type": "execute_result",
          "data": {
            "text/plain": [
              "GridSearchCV(cv=10, estimator=KNeighborsClassifier(n_neighbors=10), n_jobs=-1,\n",
              "             param_grid={'n_neighbors': [4, 5, 6, 7, 8, 9, 10, 14, 15, 20, 25],\n",
              "                         'weights': ['uniform', 'distance']},\n",
              "             scoring='f1')"
            ]
          },
          "metadata": {},
          "execution_count": 62
        }
      ],
      "source": [
        "# Way to determine which parameters give the best result\n",
        "\n",
        "KNN_param = {'n_neighbors':[4,5,6,7,8,9,10,14,15,20,25],'weights':['uniform','distance']}\n",
        "# each element of N neighbours represent the number of members that can be present in a group segreggated by our model\n",
        "# weights refers to the weight that is given in the model to give predictions therefore there will be two predictions for each N-Neighbour element, one by taking 'uniform' as weight and other by taking 'distance' as weight\n",
        "\n",
        "KNN_Grid = GridSearchCV(estimator=KNN_model,param_grid=KNN_param,cv=10,scoring='f1',n_jobs=-1)\n",
        "# KNN Grid is a ML version of for-loop\n",
        "# There will be 10(=cv) for loops; each for loop will take a random element from the list of N-neighbours as its designated neighbour on which model works\n",
        "KNN_Grid.fit(X_train_scale,Y_train)"
      ]
    },
    {
      "cell_type": "code",
      "execution_count": null,
      "id": "554802f6",
      "metadata": {
        "execution": {
          "iopub.execute_input": "2021-11-11T05:19:19.720908Z",
          "iopub.status.busy": "2021-11-11T05:19:19.720308Z",
          "iopub.status.idle": "2021-11-11T05:19:19.726008Z",
          "shell.execute_reply": "2021-11-11T05:19:19.725485Z",
          "shell.execute_reply.started": "2021-11-05T03:24:07.284193Z"
        },
        "id": "554802f6",
        "outputId": "c61743e8-a346-412b-ad02-0dd4d4b2e72c",
        "papermill": {
          "duration": 0.11077,
          "end_time": "2021-11-11T05:19:19.726143",
          "exception": false,
          "start_time": "2021-11-11T05:19:19.615373",
          "status": "completed"
        },
        "tags": [],
        "colab": {
          "base_uri": "https://localhost:8080/"
        }
      },
      "outputs": [
        {
          "output_type": "execute_result",
          "data": {
            "text/plain": [
              "{'n_neighbors': 14, 'weights': 'distance'}"
            ]
          },
          "metadata": {},
          "execution_count": 63
        }
      ],
      "source": [
        "KNN_Grid.best_params_ # Best parameters chosen on the basis of f1 score"
      ]
    },
    {
      "cell_type": "code",
      "execution_count": null,
      "id": "e5dc0f1f",
      "metadata": {
        "execution": {
          "iopub.execute_input": "2021-11-11T05:19:19.937837Z",
          "iopub.status.busy": "2021-11-11T05:19:19.937136Z",
          "iopub.status.idle": "2021-11-11T05:19:19.941676Z",
          "shell.execute_reply": "2021-11-11T05:19:19.942157Z",
          "shell.execute_reply.started": "2021-11-05T03:24:08.002617Z"
        },
        "id": "e5dc0f1f",
        "outputId": "67ef7e2a-bd2d-4e1b-ce74-91531d59e66d",
        "papermill": {
          "duration": 0.111503,
          "end_time": "2021-11-11T05:19:19.942312",
          "exception": false,
          "start_time": "2021-11-11T05:19:19.830809",
          "status": "completed"
        },
        "tags": [],
        "colab": {
          "base_uri": "https://localhost:8080/"
        }
      },
      "outputs": [
        {
          "output_type": "execute_result",
          "data": {
            "text/plain": [
              "0.9479182692807067"
            ]
          },
          "metadata": {},
          "execution_count": 64
        }
      ],
      "source": [
        "KNN_Grid.best_score_"
      ]
    },
    {
      "cell_type": "code",
      "execution_count": null,
      "id": "03f16053",
      "metadata": {
        "execution": {
          "iopub.execute_input": "2021-11-11T05:19:20.151747Z",
          "iopub.status.busy": "2021-11-11T05:19:20.151153Z",
          "iopub.status.idle": "2021-11-11T05:19:20.154435Z",
          "shell.execute_reply": "2021-11-11T05:19:20.155049Z",
          "shell.execute_reply.started": "2021-11-05T03:24:08.41263Z"
        },
        "id": "03f16053",
        "papermill": {
          "duration": 0.110115,
          "end_time": "2021-11-11T05:19:20.155208",
          "exception": false,
          "start_time": "2021-11-11T05:19:20.045093",
          "status": "completed"
        },
        "tags": []
      },
      "outputs": [],
      "source": [
        "KNN_model_best = KNeighborsClassifier(n_neighbors=14,weights='distance') #Implying model using the best of parameters that were determined above"
      ]
    },
    {
      "cell_type": "code",
      "execution_count": null,
      "id": "bcd6eafa",
      "metadata": {
        "execution": {
          "iopub.execute_input": "2021-11-11T05:19:20.399184Z",
          "iopub.status.busy": "2021-11-11T05:19:20.398634Z",
          "iopub.status.idle": "2021-11-11T05:19:20.403997Z",
          "shell.execute_reply": "2021-11-11T05:19:20.404524Z",
          "shell.execute_reply.started": "2021-11-05T03:24:08.729879Z"
        },
        "id": "bcd6eafa",
        "outputId": "768670dc-a617-4e72-e7c2-db4922ab3802",
        "papermill": {
          "duration": 0.123372,
          "end_time": "2021-11-11T05:19:20.404700",
          "exception": false,
          "start_time": "2021-11-11T05:19:20.281328",
          "status": "completed"
        },
        "tags": [],
        "colab": {
          "base_uri": "https://localhost:8080/"
        }
      },
      "outputs": [
        {
          "output_type": "execute_result",
          "data": {
            "text/plain": [
              "KNeighborsClassifier(n_neighbors=14, weights='distance')"
            ]
          },
          "metadata": {},
          "execution_count": 66
        }
      ],
      "source": [
        "KNN_model_best.fit(X_train_scale,Y_train)"
      ]
    },
    {
      "cell_type": "code",
      "execution_count": null,
      "id": "b3208a20",
      "metadata": {
        "execution": {
          "iopub.execute_input": "2021-11-11T05:19:20.612753Z",
          "iopub.status.busy": "2021-11-11T05:19:20.612190Z",
          "iopub.status.idle": "2021-11-11T05:19:20.617088Z",
          "shell.execute_reply": "2021-11-11T05:19:20.617544Z",
          "shell.execute_reply.started": "2021-11-05T03:24:09.003853Z"
        },
        "id": "b3208a20",
        "papermill": {
          "duration": 0.110027,
          "end_time": "2021-11-11T05:19:20.617715",
          "exception": false,
          "start_time": "2021-11-11T05:19:20.507688",
          "status": "completed"
        },
        "tags": []
      },
      "outputs": [],
      "source": [
        "Y_KNN_best = KNN_model_best.predict(X_test_scale)"
      ]
    },
    {
      "cell_type": "code",
      "execution_count": null,
      "id": "1ec9f1e2",
      "metadata": {
        "execution": {
          "iopub.execute_input": "2021-11-11T05:19:20.827395Z",
          "iopub.status.busy": "2021-11-11T05:19:20.826828Z",
          "iopub.status.idle": "2021-11-11T05:19:20.830728Z",
          "shell.execute_reply": "2021-11-11T05:19:20.831251Z",
          "shell.execute_reply.started": "2021-11-05T03:24:09.299411Z"
        },
        "id": "1ec9f1e2",
        "papermill": {
          "duration": 0.110205,
          "end_time": "2021-11-11T05:19:20.831406",
          "exception": false,
          "start_time": "2021-11-11T05:19:20.721201",
          "status": "completed"
        },
        "tags": []
      },
      "outputs": [],
      "source": [
        "KNN_CM= confusion_matrix(Y_test,Y_KNN_best)  # Confusion matrix between actual results and the predications made by the model (model which was made by using best parameters)"
      ]
    },
    {
      "cell_type": "code",
      "execution_count": null,
      "id": "d2e1dc36",
      "metadata": {
        "execution": {
          "iopub.execute_input": "2021-11-11T05:19:21.039681Z",
          "iopub.status.busy": "2021-11-11T05:19:21.039076Z",
          "iopub.status.idle": "2021-11-11T05:19:21.043264Z",
          "shell.execute_reply": "2021-11-11T05:19:21.043842Z",
          "shell.execute_reply.started": "2021-11-05T03:24:09.514136Z"
        },
        "id": "d2e1dc36",
        "outputId": "fa90cafd-5373-4095-dab4-c96c36c5c712",
        "papermill": {
          "duration": 0.110192,
          "end_time": "2021-11-11T05:19:21.044070",
          "exception": false,
          "start_time": "2021-11-11T05:19:20.933878",
          "status": "completed"
        },
        "tags": [],
        "colab": {
          "base_uri": "https://localhost:8080/"
        }
      },
      "outputs": [
        {
          "output_type": "execute_result",
          "data": {
            "text/plain": [
              "array([[33,  6],\n",
              "       [ 4, 71]])"
            ]
          },
          "metadata": {},
          "execution_count": 69
        }
      ],
      "source": [
        "KNN_CM"
      ]
    },
    {
      "cell_type": "code",
      "execution_count": null,
      "id": "3bcfaa48",
      "metadata": {
        "execution": {
          "iopub.execute_input": "2021-11-11T05:19:21.254818Z",
          "iopub.status.busy": "2021-11-11T05:19:21.254220Z",
          "iopub.status.idle": "2021-11-11T05:19:21.259796Z",
          "shell.execute_reply": "2021-11-11T05:19:21.260334Z",
          "shell.execute_reply.started": "2021-11-05T03:24:09.70582Z"
        },
        "id": "3bcfaa48",
        "outputId": "92e00fe3-8e1d-41c7-8760-0a9790f175b8",
        "papermill": {
          "duration": 0.112906,
          "end_time": "2021-11-11T05:19:21.260489",
          "exception": false,
          "start_time": "2021-11-11T05:19:21.147583",
          "status": "completed"
        },
        "tags": [],
        "colab": {
          "base_uri": "https://localhost:8080/"
        }
      },
      "outputs": [
        {
          "output_type": "execute_result",
          "data": {
            "text/plain": [
              "0.922077922077922"
            ]
          },
          "metadata": {},
          "execution_count": 70
        }
      ],
      "source": [
        "precision_score(Y_test,Y_KNN_best)"
      ]
    },
    {
      "cell_type": "code",
      "execution_count": null,
      "id": "3282f15a",
      "metadata": {
        "execution": {
          "iopub.execute_input": "2021-11-11T05:19:21.470694Z",
          "iopub.status.busy": "2021-11-11T05:19:21.470104Z",
          "iopub.status.idle": "2021-11-11T05:19:21.476593Z",
          "shell.execute_reply": "2021-11-11T05:19:21.476084Z",
          "shell.execute_reply.started": "2021-11-05T03:24:09.87472Z"
        },
        "id": "3282f15a",
        "outputId": "7ca99e09-2611-49be-93ba-1fea859ecbe0",
        "papermill": {
          "duration": 0.112665,
          "end_time": "2021-11-11T05:19:21.476733",
          "exception": false,
          "start_time": "2021-11-11T05:19:21.364068",
          "status": "completed"
        },
        "tags": [],
        "colab": {
          "base_uri": "https://localhost:8080/"
        }
      },
      "outputs": [
        {
          "output_type": "execute_result",
          "data": {
            "text/plain": [
              "0.9466666666666667"
            ]
          },
          "metadata": {},
          "execution_count": 71
        }
      ],
      "source": [
        "recall_score(Y_test,Y_KNN_best)"
      ]
    },
    {
      "cell_type": "code",
      "execution_count": null,
      "id": "4fec881f",
      "metadata": {
        "execution": {
          "iopub.execute_input": "2021-11-11T05:19:21.687456Z",
          "iopub.status.busy": "2021-11-11T05:19:21.686863Z",
          "iopub.status.idle": "2021-11-11T05:19:21.691865Z",
          "shell.execute_reply": "2021-11-11T05:19:21.692353Z",
          "shell.execute_reply.started": "2021-11-05T03:24:10.073988Z"
        },
        "id": "4fec881f",
        "outputId": "b77723eb-7775-4957-bd95-b13a8996d4a2",
        "papermill": {
          "duration": 0.111759,
          "end_time": "2021-11-11T05:19:21.692512",
          "exception": false,
          "start_time": "2021-11-11T05:19:21.580753",
          "status": "completed"
        },
        "tags": [],
        "colab": {
          "base_uri": "https://localhost:8080/"
        }
      },
      "outputs": [
        {
          "output_type": "execute_result",
          "data": {
            "text/plain": [
              "0.9342105263157895"
            ]
          },
          "metadata": {},
          "execution_count": 114
        }
      ],
      "source": [
        "f1_score(Y_test,Y_pred)"
      ]
    },
    {
      "cell_type": "code",
      "execution_count": null,
      "id": "0392cd9c",
      "metadata": {
        "execution": {
          "iopub.execute_input": "2021-11-11T05:19:21.906671Z",
          "iopub.status.busy": "2021-11-11T05:19:21.906065Z",
          "iopub.status.idle": "2021-11-11T05:19:21.909664Z",
          "shell.execute_reply": "2021-11-11T05:19:21.910151Z",
          "shell.execute_reply.started": "2021-11-05T03:24:10.261878Z"
        },
        "id": "0392cd9c",
        "papermill": {
          "duration": 0.111554,
          "end_time": "2021-11-11T05:19:21.910313",
          "exception": false,
          "start_time": "2021-11-11T05:19:21.798759",
          "status": "completed"
        },
        "tags": []
      },
      "outputs": [],
      "source": [
        "False_negative_rate_KNN = KNN_CM[1][0]/(KNN_CM[1][0]+KNN_CM[1][1])\n",
        "# low false negative rate is better than high accuracy\n",
        "# FN Rate = FN/(FN+TP)\n",
        "# TP - True positive; FN - False negative"
      ]
    },
    {
      "cell_type": "code",
      "execution_count": null,
      "id": "7a46f2ba",
      "metadata": {
        "execution": {
          "iopub.execute_input": "2021-11-11T05:19:22.541415Z",
          "iopub.status.busy": "2021-11-11T05:19:22.540792Z",
          "iopub.status.idle": "2021-11-11T05:19:22.543091Z",
          "shell.execute_reply": "2021-11-11T05:19:22.543513Z",
          "shell.execute_reply.started": "2021-11-05T03:24:10.794359Z"
        },
        "id": "7a46f2ba",
        "outputId": "61edb5c0-b554-43df-e68e-3b8064d4034d",
        "papermill": {
          "duration": 0.111357,
          "end_time": "2021-11-11T05:19:22.543682",
          "exception": false,
          "start_time": "2021-11-11T05:19:22.432325",
          "status": "completed"
        },
        "tags": [],
        "colab": {
          "base_uri": "https://localhost:8080/"
        }
      },
      "outputs": [
        {
          "output_type": "execute_result",
          "data": {
            "text/plain": [
              "5.333333333333334"
            ]
          },
          "metadata": {},
          "execution_count": 74
        }
      ],
      "source": [
        "False_negative_rate_KNN*100"
      ]
    },
    {
      "cell_type": "markdown",
      "id": "e063d88e",
      "metadata": {
        "id": "e063d88e",
        "papermill": {
          "duration": 0.106618,
          "end_time": "2021-11-11T05:19:22.755687",
          "exception": false,
          "start_time": "2021-11-11T05:19:22.649069",
          "status": "completed"
        },
        "tags": []
      },
      "source": [
        "# **Decision Tree**"
      ]
    },
    {
      "cell_type": "code",
      "execution_count": null,
      "id": "444ec144",
      "metadata": {
        "execution": {
          "iopub.execute_input": "2021-11-11T05:19:22.969227Z",
          "iopub.status.busy": "2021-11-11T05:19:22.968590Z",
          "iopub.status.idle": "2021-11-11T05:19:22.970077Z",
          "shell.execute_reply": "2021-11-11T05:19:22.970500Z",
          "shell.execute_reply.started": "2021-11-05T03:24:11.410186Z"
        },
        "id": "444ec144",
        "papermill": {
          "duration": 0.110188,
          "end_time": "2021-11-11T05:19:22.970676",
          "exception": false,
          "start_time": "2021-11-11T05:19:22.860488",
          "status": "completed"
        },
        "tags": []
      },
      "outputs": [],
      "source": [
        "from sklearn.tree import DecisionTreeClassifier"
      ]
    },
    {
      "cell_type": "code",
      "execution_count": null,
      "id": "0e3d62d3",
      "metadata": {
        "execution": {
          "iopub.execute_input": "2021-11-11T05:19:23.189343Z",
          "iopub.status.busy": "2021-11-11T05:19:23.188409Z",
          "iopub.status.idle": "2021-11-11T05:19:23.194478Z",
          "shell.execute_reply": "2021-11-11T05:19:23.193585Z",
          "shell.execute_reply.started": "2021-11-05T03:24:11.566741Z"
        },
        "id": "0e3d62d3",
        "papermill": {
          "duration": 0.118669,
          "end_time": "2021-11-11T05:19:23.194706",
          "exception": false,
          "start_time": "2021-11-11T05:19:23.076037",
          "status": "completed"
        },
        "tags": []
      },
      "outputs": [],
      "source": [
        "Tree_model_test = DecisionTreeClassifier(max_depth = 10)\n",
        "Tree_model_test.fit(X_train,Y_train)\n",
        "Y_tree_test = Tree_model_test.predict(X_test)\n"
      ]
    },
    {
      "cell_type": "code",
      "execution_count": null,
      "id": "7f3fa6cc",
      "metadata": {
        "execution": {
          "iopub.execute_input": "2021-11-11T05:19:23.411504Z",
          "iopub.status.busy": "2021-11-11T05:19:23.410815Z",
          "iopub.status.idle": "2021-11-11T05:19:23.413742Z",
          "shell.execute_reply": "2021-11-11T05:19:23.414197Z",
          "shell.execute_reply.started": "2021-11-05T03:24:11.779415Z"
        },
        "id": "7f3fa6cc",
        "outputId": "eaff5e87-138a-455e-9e39-5816feb1f5d6",
        "papermill": {
          "duration": 0.114351,
          "end_time": "2021-11-11T05:19:23.414365",
          "exception": false,
          "start_time": "2021-11-11T05:19:23.300014",
          "status": "completed"
        },
        "tags": [],
        "colab": {
          "base_uri": "https://localhost:8080/"
        }
      },
      "outputs": [
        {
          "output_type": "execute_result",
          "data": {
            "text/plain": [
              "array([[32,  7],\n",
              "       [ 7, 68]])"
            ]
          },
          "metadata": {},
          "execution_count": 77
        }
      ],
      "source": [
        "confusion_matrix(Y_test,Y_tree_test)"
      ]
    },
    {
      "cell_type": "code",
      "execution_count": null,
      "id": "2a92b9a8",
      "metadata": {
        "execution": {
          "iopub.execute_input": "2021-11-11T05:19:23.629282Z",
          "iopub.status.busy": "2021-11-11T05:19:23.628707Z",
          "iopub.status.idle": "2021-11-11T05:19:23.630325Z",
          "shell.execute_reply": "2021-11-11T05:19:23.630794Z",
          "shell.execute_reply.started": "2021-11-05T03:24:11.982579Z"
        },
        "id": "2a92b9a8",
        "papermill": {
          "duration": 0.111552,
          "end_time": "2021-11-11T05:19:23.630964",
          "exception": false,
          "start_time": "2021-11-11T05:19:23.519412",
          "status": "completed"
        },
        "tags": []
      },
      "outputs": [],
      "source": [
        "Tree_param = {'max_depth':[50,70,20,10],'min_samples_split':[2,4,8],'min_samples_leaf':[2,4,8]}\n",
        "Tree_search = GridSearchCV(estimator=Tree_model_test,cv=10,scoring='f1',n_jobs=-1,param_grid=Tree_param)"
      ]
    },
    {
      "cell_type": "code",
      "execution_count": null,
      "id": "fdeccb41",
      "metadata": {
        "execution": {
          "iopub.execute_input": "2021-11-11T05:19:23.844579Z",
          "iopub.status.busy": "2021-11-11T05:19:23.843685Z",
          "iopub.status.idle": "2021-11-11T05:19:24.768207Z",
          "shell.execute_reply": "2021-11-11T05:19:24.768693Z",
          "shell.execute_reply.started": "2021-11-05T03:24:12.155968Z"
        },
        "id": "fdeccb41",
        "outputId": "47b68fba-61b3-4b10-ddab-d89e43c77de0",
        "papermill": {
          "duration": 1.033341,
          "end_time": "2021-11-11T05:19:24.768859",
          "exception": false,
          "start_time": "2021-11-11T05:19:23.735518",
          "status": "completed"
        },
        "tags": [],
        "colab": {
          "base_uri": "https://localhost:8080/"
        }
      },
      "outputs": [
        {
          "output_type": "execute_result",
          "data": {
            "text/plain": [
              "GridSearchCV(cv=10, estimator=DecisionTreeClassifier(max_depth=10), n_jobs=-1,\n",
              "             param_grid={'max_depth': [50, 70, 20, 10],\n",
              "                         'min_samples_leaf': [2, 4, 8],\n",
              "                         'min_samples_split': [2, 4, 8]},\n",
              "             scoring='f1')"
            ]
          },
          "metadata": {},
          "execution_count": 79
        }
      ],
      "source": [
        "Tree_search.fit(X_train,Y_train)"
      ]
    },
    {
      "cell_type": "code",
      "execution_count": null,
      "id": "f9be3236",
      "metadata": {
        "execution": {
          "iopub.execute_input": "2021-11-11T05:19:24.982139Z",
          "iopub.status.busy": "2021-11-11T05:19:24.981232Z",
          "iopub.status.idle": "2021-11-11T05:19:24.985926Z",
          "shell.execute_reply": "2021-11-11T05:19:24.986317Z",
          "shell.execute_reply.started": "2021-11-05T03:24:13.219698Z"
        },
        "id": "f9be3236",
        "outputId": "6783fd07-7aa1-4a1b-f883-a76a564297c9",
        "papermill": {
          "duration": 0.113215,
          "end_time": "2021-11-11T05:19:24.986483",
          "exception": false,
          "start_time": "2021-11-11T05:19:24.873268",
          "status": "completed"
        },
        "tags": [],
        "colab": {
          "base_uri": "https://localhost:8080/"
        }
      },
      "outputs": [
        {
          "output_type": "execute_result",
          "data": {
            "text/plain": [
              "{'max_depth': 50, 'min_samples_leaf': 8, 'min_samples_split': 2}"
            ]
          },
          "metadata": {},
          "execution_count": 80
        }
      ],
      "source": [
        "Tree_search.best_params_"
      ]
    },
    {
      "cell_type": "code",
      "execution_count": null,
      "id": "b1576106",
      "metadata": {
        "execution": {
          "iopub.execute_input": "2021-11-11T05:19:25.205376Z",
          "iopub.status.busy": "2021-11-11T05:19:25.204456Z",
          "iopub.status.idle": "2021-11-11T05:19:25.208022Z",
          "shell.execute_reply": "2021-11-11T05:19:25.208454Z",
          "shell.execute_reply.started": "2021-11-05T03:24:13.227757Z"
        },
        "id": "b1576106",
        "papermill": {
          "duration": 0.1136,
          "end_time": "2021-11-11T05:19:25.208635",
          "exception": false,
          "start_time": "2021-11-11T05:19:25.095035",
          "status": "completed"
        },
        "tags": []
      },
      "outputs": [],
      "source": [
        "Tree_model = RandomForestClassifier(max_depth=70,min_samples_leaf=8,min_samples_split=4)"
      ]
    },
    {
      "cell_type": "code",
      "execution_count": null,
      "id": "70a10f25",
      "metadata": {
        "execution": {
          "iopub.execute_input": "2021-11-11T05:19:25.424434Z",
          "iopub.status.busy": "2021-11-11T05:19:25.423514Z",
          "iopub.status.idle": "2021-11-11T05:19:25.576449Z",
          "shell.execute_reply": "2021-11-11T05:19:25.577055Z",
          "shell.execute_reply.started": "2021-11-05T03:24:13.239582Z"
        },
        "id": "70a10f25",
        "outputId": "a757cceb-8ed6-4c9d-f438-08ab47c73715",
        "papermill": {
          "duration": 0.263851,
          "end_time": "2021-11-11T05:19:25.577218",
          "exception": false,
          "start_time": "2021-11-11T05:19:25.313367",
          "status": "completed"
        },
        "tags": [],
        "colab": {
          "base_uri": "https://localhost:8080/"
        }
      },
      "outputs": [
        {
          "output_type": "execute_result",
          "data": {
            "text/plain": [
              "RandomForestClassifier(max_depth=70, min_samples_leaf=8, min_samples_split=4)"
            ]
          },
          "metadata": {},
          "execution_count": 82
        }
      ],
      "source": [
        "Tree_model.fit(X_train,Y_train)"
      ]
    },
    {
      "cell_type": "code",
      "execution_count": null,
      "id": "60345946",
      "metadata": {
        "execution": {
          "iopub.execute_input": "2021-11-11T05:19:25.790951Z",
          "iopub.status.busy": "2021-11-11T05:19:25.790035Z",
          "iopub.status.idle": "2021-11-11T05:19:25.803724Z",
          "shell.execute_reply": "2021-11-11T05:19:25.804131Z",
          "shell.execute_reply.started": "2021-11-05T03:24:13.45804Z"
        },
        "id": "60345946",
        "papermill": {
          "duration": 0.121957,
          "end_time": "2021-11-11T05:19:25.804293",
          "exception": false,
          "start_time": "2021-11-11T05:19:25.682336",
          "status": "completed"
        },
        "tags": []
      },
      "outputs": [],
      "source": [
        "Y_tree= Tree_model.predict(X_test)"
      ]
    },
    {
      "cell_type": "code",
      "execution_count": null,
      "id": "32a72fb7",
      "metadata": {
        "execution": {
          "iopub.execute_input": "2021-11-11T05:19:26.022748Z",
          "iopub.status.busy": "2021-11-11T05:19:26.022115Z",
          "iopub.status.idle": "2021-11-11T05:19:26.035412Z",
          "shell.execute_reply": "2021-11-11T05:19:26.035933Z",
          "shell.execute_reply.started": "2021-11-05T03:24:13.478116Z"
        },
        "id": "32a72fb7",
        "outputId": "68316b15-e9ee-4dd9-a91d-2d6210ebfbc6",
        "papermill": {
          "duration": 0.125023,
          "end_time": "2021-11-11T05:19:26.036114",
          "exception": false,
          "start_time": "2021-11-11T05:19:25.911091",
          "status": "completed"
        },
        "tags": [],
        "colab": {
          "base_uri": "https://localhost:8080/"
        }
      },
      "outputs": [
        {
          "output_type": "execute_result",
          "data": {
            "text/plain": [
              "0.9122807017543859"
            ]
          },
          "metadata": {},
          "execution_count": 84
        }
      ],
      "source": [
        "Tree_model.score(X_test,Y_test)"
      ]
    },
    {
      "cell_type": "code",
      "execution_count": null,
      "id": "360cf18b",
      "metadata": {
        "execution": {
          "iopub.execute_input": "2021-11-11T05:19:26.300809Z",
          "iopub.status.busy": "2021-11-11T05:19:26.300211Z",
          "iopub.status.idle": "2021-11-11T05:19:26.304939Z",
          "shell.execute_reply": "2021-11-11T05:19:26.305389Z",
          "shell.execute_reply.started": "2021-11-05T03:24:13.498513Z"
        },
        "id": "360cf18b",
        "papermill": {
          "duration": 0.163346,
          "end_time": "2021-11-11T05:19:26.305573",
          "exception": false,
          "start_time": "2021-11-11T05:19:26.142227",
          "status": "completed"
        },
        "tags": []
      },
      "outputs": [],
      "source": [
        "Tree_confusion = confusion_matrix(Y_test,Y_tree)"
      ]
    },
    {
      "cell_type": "code",
      "execution_count": null,
      "id": "f40a3ce3",
      "metadata": {
        "execution": {
          "iopub.execute_input": "2021-11-11T05:19:26.519024Z",
          "iopub.status.busy": "2021-11-11T05:19:26.518434Z",
          "iopub.status.idle": "2021-11-11T05:19:26.523782Z",
          "shell.execute_reply": "2021-11-11T05:19:26.524205Z",
          "shell.execute_reply.started": "2021-11-05T03:24:13.504884Z"
        },
        "id": "f40a3ce3",
        "outputId": "0a5fd7fe-47c6-414b-bb3d-b030d05d7aab",
        "papermill": {
          "duration": 0.113432,
          "end_time": "2021-11-11T05:19:26.524369",
          "exception": false,
          "start_time": "2021-11-11T05:19:26.410937",
          "status": "completed"
        },
        "tags": [],
        "colab": {
          "base_uri": "https://localhost:8080/"
        }
      },
      "outputs": [
        {
          "output_type": "execute_result",
          "data": {
            "text/plain": [
              "array([[32,  7],\n",
              "       [ 3, 72]])"
            ]
          },
          "metadata": {},
          "execution_count": 86
        }
      ],
      "source": [
        "Tree_confusion"
      ]
    },
    {
      "cell_type": "code",
      "execution_count": null,
      "id": "6a56fe8e",
      "metadata": {
        "execution": {
          "iopub.execute_input": "2021-11-11T05:19:26.738628Z",
          "iopub.status.busy": "2021-11-11T05:19:26.738054Z",
          "iopub.status.idle": "2021-11-11T05:19:26.744078Z",
          "shell.execute_reply": "2021-11-11T05:19:26.743502Z",
          "shell.execute_reply.started": "2021-11-05T03:24:13.60133Z"
        },
        "id": "6a56fe8e",
        "outputId": "1e9b1dd2-5785-4403-9e63-0b901d418102",
        "papermill": {
          "duration": 0.114162,
          "end_time": "2021-11-11T05:19:26.744207",
          "exception": false,
          "start_time": "2021-11-11T05:19:26.630045",
          "status": "completed"
        },
        "tags": [],
        "colab": {
          "base_uri": "https://localhost:8080/"
        }
      },
      "outputs": [
        {
          "output_type": "execute_result",
          "data": {
            "text/plain": [
              "0.9122807017543859"
            ]
          },
          "metadata": {},
          "execution_count": 87
        }
      ],
      "source": [
        "accuracy_score(Y_test,Y_tree)"
      ]
    },
    {
      "cell_type": "code",
      "execution_count": null,
      "id": "be7e1e14",
      "metadata": {
        "execution": {
          "iopub.execute_input": "2021-11-11T05:19:26.962132Z",
          "iopub.status.busy": "2021-11-11T05:19:26.961467Z",
          "iopub.status.idle": "2021-11-11T05:19:26.967115Z",
          "shell.execute_reply": "2021-11-11T05:19:26.967623Z",
          "shell.execute_reply.started": "2021-11-05T03:24:13.762129Z"
        },
        "id": "be7e1e14",
        "outputId": "61bab653-c6dd-4071-8161-27780d47261f",
        "papermill": {
          "duration": 0.11734,
          "end_time": "2021-11-11T05:19:26.967788",
          "exception": false,
          "start_time": "2021-11-11T05:19:26.850448",
          "status": "completed"
        },
        "tags": [],
        "colab": {
          "base_uri": "https://localhost:8080/"
        }
      },
      "outputs": [
        {
          "output_type": "execute_result",
          "data": {
            "text/plain": [
              "0.9113924050632911"
            ]
          },
          "metadata": {},
          "execution_count": 88
        }
      ],
      "source": [
        "precision_score(Y_test,Y_tree)"
      ]
    },
    {
      "cell_type": "code",
      "execution_count": null,
      "id": "3aec54bc",
      "metadata": {
        "execution": {
          "iopub.execute_input": "2021-11-11T05:19:27.185701Z",
          "iopub.status.busy": "2021-11-11T05:19:27.185101Z",
          "iopub.status.idle": "2021-11-11T05:19:27.190197Z",
          "shell.execute_reply": "2021-11-11T05:19:27.190719Z",
          "shell.execute_reply.started": "2021-11-05T03:24:13.94784Z"
        },
        "id": "3aec54bc",
        "outputId": "d3c9e92d-98a7-4205-b16a-fe25435e281b",
        "papermill": {
          "duration": 0.11567,
          "end_time": "2021-11-11T05:19:27.190878",
          "exception": false,
          "start_time": "2021-11-11T05:19:27.075208",
          "status": "completed"
        },
        "tags": [],
        "colab": {
          "base_uri": "https://localhost:8080/"
        }
      },
      "outputs": [
        {
          "output_type": "execute_result",
          "data": {
            "text/plain": [
              "0.96"
            ]
          },
          "metadata": {},
          "execution_count": 89
        }
      ],
      "source": [
        "recall_score(Y_test,Y_tree)"
      ]
    },
    {
      "cell_type": "code",
      "execution_count": null,
      "id": "697fcf62",
      "metadata": {
        "execution": {
          "iopub.execute_input": "2021-11-11T05:19:27.409987Z",
          "iopub.status.busy": "2021-11-11T05:19:27.409335Z",
          "iopub.status.idle": "2021-11-11T05:19:27.412909Z",
          "shell.execute_reply": "2021-11-11T05:19:27.413376Z",
          "shell.execute_reply.started": "2021-11-05T03:24:14.129797Z"
        },
        "id": "697fcf62",
        "papermill": {
          "duration": 0.114925,
          "end_time": "2021-11-11T05:19:27.413532",
          "exception": false,
          "start_time": "2021-11-11T05:19:27.298607",
          "status": "completed"
        },
        "tags": []
      },
      "outputs": [],
      "source": [
        "False_negetive_rate_Tree = Tree_confusion[1][0]/(Tree_confusion[1][0]+Tree_confusion[1][1])"
      ]
    },
    {
      "cell_type": "code",
      "execution_count": null,
      "id": "436df9c1",
      "metadata": {
        "execution": {
          "iopub.execute_input": "2021-11-11T05:19:27.633733Z",
          "iopub.status.busy": "2021-11-11T05:19:27.633128Z",
          "iopub.status.idle": "2021-11-11T05:19:27.636925Z",
          "shell.execute_reply": "2021-11-11T05:19:27.636305Z",
          "shell.execute_reply.started": "2021-11-05T03:24:14.330527Z"
        },
        "id": "436df9c1",
        "outputId": "cdd29740-a5b7-4e76-ac8e-f899dbc897da",
        "papermill": {
          "duration": 0.116194,
          "end_time": "2021-11-11T05:19:27.637063",
          "exception": false,
          "start_time": "2021-11-11T05:19:27.520869",
          "status": "completed"
        },
        "tags": [],
        "colab": {
          "base_uri": "https://localhost:8080/"
        }
      },
      "outputs": [
        {
          "output_type": "execute_result",
          "data": {
            "text/plain": [
              "4.0"
            ]
          },
          "metadata": {},
          "execution_count": 91
        }
      ],
      "source": [
        "False_negetive_rate_Tree*100"
      ]
    },
    {
      "cell_type": "markdown",
      "id": "052e4dd8",
      "metadata": {
        "id": "052e4dd8",
        "papermill": {
          "duration": 0.107331,
          "end_time": "2021-11-11T05:19:27.851954",
          "exception": false,
          "start_time": "2021-11-11T05:19:27.744623",
          "status": "completed"
        },
        "tags": []
      },
      "source": [
        "# SVM"
      ]
    },
    {
      "cell_type": "code",
      "execution_count": null,
      "id": "a2cdf38d",
      "metadata": {
        "execution": {
          "iopub.execute_input": "2021-11-11T05:19:28.075075Z",
          "iopub.status.busy": "2021-11-11T05:19:28.074439Z",
          "iopub.status.idle": "2021-11-11T05:19:28.077257Z",
          "shell.execute_reply": "2021-11-11T05:19:28.076786Z",
          "shell.execute_reply.started": "2021-11-05T03:24:14.754587Z"
        },
        "id": "a2cdf38d",
        "papermill": {
          "duration": 0.115931,
          "end_time": "2021-11-11T05:19:28.077385",
          "exception": false,
          "start_time": "2021-11-11T05:19:27.961454",
          "status": "completed"
        },
        "tags": []
      },
      "outputs": [],
      "source": [
        "from sklearn.svm import SVC"
      ]
    },
    {
      "cell_type": "code",
      "execution_count": null,
      "id": "cb4de9f4",
      "metadata": {
        "execution": {
          "iopub.execute_input": "2021-11-11T05:19:28.297894Z",
          "iopub.status.busy": "2021-11-11T05:19:28.297289Z",
          "iopub.status.idle": "2021-11-11T05:19:28.305123Z",
          "shell.execute_reply": "2021-11-11T05:19:28.304505Z",
          "shell.execute_reply.started": "2021-11-05T03:24:14.959849Z"
        },
        "id": "cb4de9f4",
        "outputId": "26944c5c-c388-49fc-91f1-7b6e86d5eec4",
        "papermill": {
          "duration": 0.120737,
          "end_time": "2021-11-11T05:19:28.305255",
          "exception": false,
          "start_time": "2021-11-11T05:19:28.184518",
          "status": "completed"
        },
        "tags": [],
        "colab": {
          "base_uri": "https://localhost:8080/"
        }
      },
      "outputs": [
        {
          "output_type": "execute_result",
          "data": {
            "text/plain": [
              "SVC(C=100, kernel='linear')"
            ]
          },
          "metadata": {},
          "execution_count": 93
        }
      ],
      "source": [
        "SVM_model = SVC(C=100, kernel='linear')\n",
        "SVM_model.fit(X_train_scale,Y_train)"
      ]
    },
    {
      "cell_type": "code",
      "execution_count": null,
      "id": "e9fedfd9",
      "metadata": {
        "execution": {
          "iopub.execute_input": "2021-11-11T05:19:28.529105Z",
          "iopub.status.busy": "2021-11-11T05:19:28.528396Z",
          "iopub.status.idle": "2021-11-11T05:19:28.530759Z",
          "shell.execute_reply": "2021-11-11T05:19:28.531165Z",
          "shell.execute_reply.started": "2021-11-05T03:24:15.139626Z"
        },
        "id": "e9fedfd9",
        "papermill": {
          "duration": 0.117757,
          "end_time": "2021-11-11T05:19:28.531325",
          "exception": false,
          "start_time": "2021-11-11T05:19:28.413568",
          "status": "completed"
        },
        "tags": []
      },
      "outputs": [],
      "source": [
        "Y_SVM = SVM_model.predict(X_test_scale)"
      ]
    },
    {
      "cell_type": "code",
      "execution_count": null,
      "id": "9fd2e4c3",
      "metadata": {
        "execution": {
          "iopub.execute_input": "2021-11-11T05:19:28.753846Z",
          "iopub.status.busy": "2021-11-11T05:19:28.752444Z",
          "iopub.status.idle": "2021-11-11T05:19:28.757172Z",
          "shell.execute_reply": "2021-11-11T05:19:28.756593Z",
          "shell.execute_reply.started": "2021-11-05T03:24:15.306289Z"
        },
        "id": "9fd2e4c3",
        "outputId": "d225138e-a3cc-456f-e27e-4bdfa97ed91d",
        "papermill": {
          "duration": 0.116625,
          "end_time": "2021-11-11T05:19:28.757302",
          "exception": false,
          "start_time": "2021-11-11T05:19:28.640677",
          "status": "completed"
        },
        "tags": [],
        "colab": {
          "base_uri": "https://localhost:8080/"
        }
      },
      "outputs": [
        {
          "output_type": "execute_result",
          "data": {
            "text/plain": [
              "array([[35,  4],\n",
              "       [ 5, 70]])"
            ]
          },
          "metadata": {},
          "execution_count": 95
        }
      ],
      "source": [
        "confusion_matrix(Y_test,Y_SVM)"
      ]
    },
    {
      "cell_type": "code",
      "execution_count": null,
      "id": "eeb0fbd6",
      "metadata": {
        "execution": {
          "iopub.execute_input": "2021-11-11T05:19:28.985236Z",
          "iopub.status.busy": "2021-11-11T05:19:28.984569Z",
          "iopub.status.idle": "2021-11-11T05:19:28.988072Z",
          "shell.execute_reply": "2021-11-11T05:19:28.988465Z",
          "shell.execute_reply.started": "2021-11-05T03:24:15.498239Z"
        },
        "id": "eeb0fbd6",
        "outputId": "cc10e17e-e551-4759-ddec-df2b70defb9a",
        "papermill": {
          "duration": 0.117369,
          "end_time": "2021-11-11T05:19:28.988666",
          "exception": false,
          "start_time": "2021-11-11T05:19:28.871297",
          "status": "completed"
        },
        "tags": [],
        "colab": {
          "base_uri": "https://localhost:8080/"
        }
      },
      "outputs": [
        {
          "output_type": "execute_result",
          "data": {
            "text/plain": [
              "0.9210526315789473"
            ]
          },
          "metadata": {},
          "execution_count": 96
        }
      ],
      "source": [
        "accuracy_score(Y_test,Y_SVM)"
      ]
    },
    {
      "cell_type": "code",
      "execution_count": null,
      "id": "05fb841e",
      "metadata": {
        "execution": {
          "iopub.execute_input": "2021-11-11T05:19:29.211232Z",
          "iopub.status.busy": "2021-11-11T05:19:29.209569Z",
          "iopub.status.idle": "2021-11-11T05:19:29.214706Z",
          "shell.execute_reply": "2021-11-11T05:19:29.214086Z",
          "shell.execute_reply.started": "2021-11-05T03:24:15.681812Z"
        },
        "id": "05fb841e",
        "outputId": "b06c9067-7537-45a6-a949-1a0acc4fea38",
        "papermill": {
          "duration": 0.118122,
          "end_time": "2021-11-11T05:19:29.214849",
          "exception": false,
          "start_time": "2021-11-11T05:19:29.096727",
          "status": "completed"
        },
        "tags": [],
        "colab": {
          "base_uri": "https://localhost:8080/"
        }
      },
      "outputs": [
        {
          "output_type": "execute_result",
          "data": {
            "text/plain": [
              "0.9333333333333333"
            ]
          },
          "metadata": {},
          "execution_count": 97
        }
      ],
      "source": [
        "recall_score(Y_test,Y_SVM)"
      ]
    },
    {
      "cell_type": "code",
      "execution_count": null,
      "id": "b09765af",
      "metadata": {
        "execution": {
          "iopub.execute_input": "2021-11-11T05:19:29.438121Z",
          "iopub.status.busy": "2021-11-11T05:19:29.437168Z",
          "iopub.status.idle": "2021-11-11T05:19:29.442193Z",
          "shell.execute_reply": "2021-11-11T05:19:29.442633Z",
          "shell.execute_reply.started": "2021-11-05T03:24:15.853059Z"
        },
        "id": "b09765af",
        "outputId": "4948a02c-5527-491d-85b2-0d45413f0e92",
        "papermill": {
          "duration": 0.11835,
          "end_time": "2021-11-11T05:19:29.442801",
          "exception": false,
          "start_time": "2021-11-11T05:19:29.324451",
          "status": "completed"
        },
        "tags": [],
        "colab": {
          "base_uri": "https://localhost:8080/"
        }
      },
      "outputs": [
        {
          "output_type": "execute_result",
          "data": {
            "text/plain": [
              "0.9459459459459459"
            ]
          },
          "metadata": {},
          "execution_count": 98
        }
      ],
      "source": [
        "precision_score(Y_test,Y_SVM)"
      ]
    },
    {
      "cell_type": "code",
      "execution_count": null,
      "id": "18c942ef",
      "metadata": {
        "execution": {
          "iopub.execute_input": "2021-11-11T05:19:29.666139Z",
          "iopub.status.busy": "2021-11-11T05:19:29.665410Z",
          "iopub.status.idle": "2021-11-11T05:19:29.668207Z",
          "shell.execute_reply": "2021-11-11T05:19:29.667625Z",
          "shell.execute_reply.started": "2021-11-05T03:24:16.044463Z"
        },
        "id": "18c942ef",
        "papermill": {
          "duration": 0.1173,
          "end_time": "2021-11-11T05:19:29.668338",
          "exception": false,
          "start_time": "2021-11-11T05:19:29.551038",
          "status": "completed"
        },
        "tags": []
      },
      "outputs": [],
      "source": [
        "SVM_param = [{\"C\":[1,10,100,1000],'kernel':['linear']},{\"C\":[1,10,100,1000],'kernel':['rbf','sigmoid'],'gamma':[0.1,1,10]}] # Refer C and gamma from link in research paper doc\n",
        "grid_SVM = GridSearchCV(estimator=SVM_model, param_grid=SVM_param,cv=10,scoring=\"f1\", n_jobs=-1)"
      ]
    },
    {
      "cell_type": "code",
      "execution_count": null,
      "id": "42187bfc",
      "metadata": {
        "execution": {
          "iopub.execute_input": "2021-11-11T05:19:29.892497Z",
          "iopub.status.busy": "2021-11-11T05:19:29.890278Z",
          "iopub.status.idle": "2021-11-11T05:19:30.716144Z",
          "shell.execute_reply": "2021-11-11T05:19:30.716670Z",
          "shell.execute_reply.started": "2021-11-05T03:24:16.234193Z"
        },
        "id": "42187bfc",
        "outputId": "f4893cb2-f226-4cf3-e820-412ba8758d7c",
        "papermill": {
          "duration": 0.938201,
          "end_time": "2021-11-11T05:19:30.716834",
          "exception": false,
          "start_time": "2021-11-11T05:19:29.778633",
          "status": "completed"
        },
        "tags": [],
        "colab": {
          "base_uri": "https://localhost:8080/"
        }
      },
      "outputs": [
        {
          "output_type": "execute_result",
          "data": {
            "text/plain": [
              "GridSearchCV(cv=10, estimator=SVC(C=100, kernel='linear'), n_jobs=-1,\n",
              "             param_grid=[{'C': [1, 10, 100, 1000], 'kernel': ['linear']},\n",
              "                         {'C': [1, 10, 100, 1000], 'gamma': [0.1, 1, 10],\n",
              "                          'kernel': ['rbf', 'sigmoid']}],\n",
              "             scoring='f1')"
            ]
          },
          "metadata": {},
          "execution_count": 100
        }
      ],
      "source": [
        "grid_SVM.fit(X_train_scale,Y_train)"
      ]
    },
    {
      "cell_type": "code",
      "execution_count": null,
      "id": "7dee0c28",
      "metadata": {
        "execution": {
          "iopub.execute_input": "2021-11-11T05:19:30.938775Z",
          "iopub.status.busy": "2021-11-11T05:19:30.937875Z",
          "iopub.status.idle": "2021-11-11T05:19:30.943085Z",
          "shell.execute_reply": "2021-11-11T05:19:30.943634Z",
          "shell.execute_reply.started": "2021-11-05T03:24:17.114632Z"
        },
        "id": "7dee0c28",
        "outputId": "f7fb22d2-a43c-4120-acf4-de32be91f015",
        "papermill": {
          "duration": 0.118884,
          "end_time": "2021-11-11T05:19:30.943790",
          "exception": false,
          "start_time": "2021-11-11T05:19:30.824906",
          "status": "completed"
        },
        "tags": [],
        "colab": {
          "base_uri": "https://localhost:8080/"
        }
      },
      "outputs": [
        {
          "output_type": "execute_result",
          "data": {
            "text/plain": [
              "0.951484461207045"
            ]
          },
          "metadata": {},
          "execution_count": 101
        }
      ],
      "source": [
        "grid_SVM.best_score_"
      ]
    },
    {
      "cell_type": "code",
      "execution_count": null,
      "id": "074dea3b",
      "metadata": {
        "execution": {
          "iopub.execute_input": "2021-11-11T05:19:31.171630Z",
          "iopub.status.busy": "2021-11-11T05:19:31.170962Z",
          "iopub.status.idle": "2021-11-11T05:19:31.173359Z",
          "shell.execute_reply": "2021-11-11T05:19:31.173832Z",
          "shell.execute_reply.started": "2021-11-05T03:24:17.123196Z"
        },
        "id": "074dea3b",
        "outputId": "c1dc6657-b9ad-4a5c-c360-71ccc535e9cc",
        "papermill": {
          "duration": 0.117261,
          "end_time": "2021-11-11T05:19:31.174007",
          "exception": false,
          "start_time": "2021-11-11T05:19:31.056746",
          "status": "completed"
        },
        "tags": [],
        "colab": {
          "base_uri": "https://localhost:8080/"
        }
      },
      "outputs": [
        {
          "output_type": "execute_result",
          "data": {
            "text/plain": [
              "{'C': 100, 'gamma': 10, 'kernel': 'rbf'}"
            ]
          },
          "metadata": {},
          "execution_count": 102
        }
      ],
      "source": [
        "grid_SVM.best_params_"
      ]
    },
    {
      "cell_type": "code",
      "execution_count": null,
      "id": "b33c7083",
      "metadata": {
        "execution": {
          "iopub.execute_input": "2021-11-11T05:19:31.421632Z",
          "iopub.status.busy": "2021-11-11T05:19:31.421023Z",
          "iopub.status.idle": "2021-11-11T05:19:31.424106Z",
          "shell.execute_reply": "2021-11-11T05:19:31.424527Z",
          "shell.execute_reply.started": "2021-11-05T03:24:17.745969Z"
        },
        "id": "b33c7083",
        "papermill": {
          "duration": 0.11766,
          "end_time": "2021-11-11T05:19:31.424719",
          "exception": false,
          "start_time": "2021-11-11T05:19:31.307059",
          "status": "completed"
        },
        "tags": []
      },
      "outputs": [],
      "source": [
        "SVM_model_best = SVC(C=100,kernel='rbf',gamma=10)"
      ]
    },
    {
      "cell_type": "code",
      "execution_count": null,
      "id": "e9f11254",
      "metadata": {
        "execution": {
          "iopub.execute_input": "2021-11-11T05:19:31.648119Z",
          "iopub.status.busy": "2021-11-11T05:19:31.647201Z",
          "iopub.status.idle": "2021-11-11T05:19:31.659983Z",
          "shell.execute_reply": "2021-11-11T05:19:31.660421Z",
          "shell.execute_reply.started": "2021-11-05T03:24:18.073531Z"
        },
        "id": "e9f11254",
        "outputId": "04babdbc-0319-429d-ecd1-968f0637a9a4",
        "papermill": {
          "duration": 0.126429,
          "end_time": "2021-11-11T05:19:31.660597",
          "exception": false,
          "start_time": "2021-11-11T05:19:31.534168",
          "status": "completed"
        },
        "tags": [],
        "colab": {
          "base_uri": "https://localhost:8080/"
        }
      },
      "outputs": [
        {
          "output_type": "execute_result",
          "data": {
            "text/plain": [
              "SVC(C=100, gamma=10)"
            ]
          },
          "metadata": {},
          "execution_count": 104
        }
      ],
      "source": [
        "SVM_model_best.fit(X_train_scale,Y_train)"
      ]
    },
    {
      "cell_type": "code",
      "execution_count": null,
      "id": "d2a0be50",
      "metadata": {
        "execution": {
          "iopub.execute_input": "2021-11-11T05:19:31.882713Z",
          "iopub.status.busy": "2021-11-11T05:19:31.881808Z",
          "iopub.status.idle": "2021-11-11T05:19:31.885863Z",
          "shell.execute_reply": "2021-11-11T05:19:31.886310Z",
          "shell.execute_reply.started": "2021-11-05T03:24:18.33241Z"
        },
        "id": "d2a0be50",
        "papermill": {
          "duration": 0.117066,
          "end_time": "2021-11-11T05:19:31.886462",
          "exception": false,
          "start_time": "2021-11-11T05:19:31.769396",
          "status": "completed"
        },
        "tags": []
      },
      "outputs": [],
      "source": [
        "Y_SVM_best = SVM_model_best.predict(X_test_scale)"
      ]
    },
    {
      "cell_type": "code",
      "execution_count": null,
      "id": "f0f965cc",
      "metadata": {
        "execution": {
          "iopub.execute_input": "2021-11-11T05:19:32.109102Z",
          "iopub.status.busy": "2021-11-11T05:19:32.108209Z",
          "iopub.status.idle": "2021-11-11T05:19:32.112219Z",
          "shell.execute_reply": "2021-11-11T05:19:32.112674Z",
          "shell.execute_reply.started": "2021-11-05T03:24:18.533268Z"
        },
        "id": "f0f965cc",
        "papermill": {
          "duration": 0.116952,
          "end_time": "2021-11-11T05:19:32.112836",
          "exception": false,
          "start_time": "2021-11-11T05:19:31.995884",
          "status": "completed"
        },
        "tags": [],
        "colab": {
          "base_uri": "https://localhost:8080/"
        },
        "outputId": "a439f533-61af-4630-d2ec-8355f4814f04"
      },
      "outputs": [
        {
          "output_type": "execute_result",
          "data": {
            "text/plain": [
              "array([[32,  7],\n",
              "       [ 4, 71]])"
            ]
          },
          "metadata": {},
          "execution_count": 106
        }
      ],
      "source": [
        "SVM_CM= confusion_matrix(Y_test,Y_SVM_best)\n",
        "SVM_CM"
      ]
    },
    {
      "cell_type": "code",
      "execution_count": null,
      "id": "859ca076",
      "metadata": {
        "execution": {
          "iopub.execute_input": "2021-11-11T05:19:32.336890Z",
          "iopub.status.busy": "2021-11-11T05:19:32.335979Z",
          "iopub.status.idle": "2021-11-11T05:19:32.341040Z",
          "shell.execute_reply": "2021-11-11T05:19:32.341468Z",
          "shell.execute_reply.started": "2021-11-05T03:24:18.730085Z"
        },
        "id": "859ca076",
        "outputId": "967dfa34-fc95-4ed8-e434-ed96de8d43b2",
        "papermill": {
          "duration": 0.119757,
          "end_time": "2021-11-11T05:19:32.341639",
          "exception": false,
          "start_time": "2021-11-11T05:19:32.221882",
          "status": "completed"
        },
        "tags": [],
        "colab": {
          "base_uri": "https://localhost:8080/"
        }
      },
      "outputs": [
        {
          "output_type": "execute_result",
          "data": {
            "text/plain": [
              "0.9035087719298246"
            ]
          },
          "metadata": {},
          "execution_count": 107
        }
      ],
      "source": [
        "accuracy_score(Y_test,Y_SVM_best)"
      ]
    },
    {
      "cell_type": "code",
      "execution_count": null,
      "id": "4bab3d66",
      "metadata": {
        "execution": {
          "iopub.execute_input": "2021-11-11T05:19:32.565977Z",
          "iopub.status.busy": "2021-11-11T05:19:32.565362Z",
          "iopub.status.idle": "2021-11-11T05:19:32.570874Z",
          "shell.execute_reply": "2021-11-11T05:19:32.571349Z",
          "shell.execute_reply.started": "2021-11-05T03:24:18.917843Z"
        },
        "id": "4bab3d66",
        "outputId": "dae20c0e-d077-4a10-e5cb-835e786013dd",
        "papermill": {
          "duration": 0.119895,
          "end_time": "2021-11-11T05:19:32.571510",
          "exception": false,
          "start_time": "2021-11-11T05:19:32.451615",
          "status": "completed"
        },
        "tags": [],
        "colab": {
          "base_uri": "https://localhost:8080/"
        }
      },
      "outputs": [
        {
          "output_type": "execute_result",
          "data": {
            "text/plain": [
              "0.9466666666666667"
            ]
          },
          "metadata": {},
          "execution_count": 108
        }
      ],
      "source": [
        "recall_score(Y_test,Y_SVM_best)"
      ]
    },
    {
      "cell_type": "code",
      "execution_count": null,
      "id": "348426dc",
      "metadata": {
        "execution": {
          "iopub.execute_input": "2021-11-11T05:19:32.793906Z",
          "iopub.status.busy": "2021-11-11T05:19:32.792970Z",
          "iopub.status.idle": "2021-11-11T05:19:32.798921Z",
          "shell.execute_reply": "2021-11-11T05:19:32.799320Z",
          "shell.execute_reply.started": "2021-11-05T03:24:19.146719Z"
        },
        "id": "348426dc",
        "outputId": "b34596a1-5720-40b3-b5c3-a41ecd586b10",
        "papermill": {
          "duration": 0.118439,
          "end_time": "2021-11-11T05:19:32.799484",
          "exception": false,
          "start_time": "2021-11-11T05:19:32.681045",
          "status": "completed"
        },
        "tags": [],
        "colab": {
          "base_uri": "https://localhost:8080/"
        }
      },
      "outputs": [
        {
          "output_type": "execute_result",
          "data": {
            "text/plain": [
              "0.9102564102564102"
            ]
          },
          "metadata": {},
          "execution_count": 109
        }
      ],
      "source": [
        "precision_score(Y_test,Y_SVM_best)"
      ]
    },
    {
      "cell_type": "code",
      "source": [
        "f1_score(Y_test,Y_pred)"
      ],
      "metadata": {
        "colab": {
          "base_uri": "https://localhost:8080/"
        },
        "id": "WxpR-4_OtXPm",
        "outputId": "57851a52-9d20-43cb-8ead-5b99896db449"
      },
      "id": "WxpR-4_OtXPm",
      "execution_count": null,
      "outputs": [
        {
          "output_type": "execute_result",
          "data": {
            "text/plain": [
              "0.9161290322580645"
            ]
          },
          "metadata": {},
          "execution_count": 115
        }
      ]
    },
    {
      "cell_type": "code",
      "execution_count": null,
      "id": "ca32cdb0",
      "metadata": {
        "execution": {
          "iopub.execute_input": "2021-11-11T05:19:33.023783Z",
          "iopub.status.busy": "2021-11-11T05:19:33.023084Z",
          "iopub.status.idle": "2021-11-11T05:19:33.025806Z",
          "shell.execute_reply": "2021-11-11T05:19:33.025302Z",
          "shell.execute_reply.started": "2021-11-05T03:24:19.315095Z"
        },
        "id": "ca32cdb0",
        "papermill": {
          "duration": 0.116663,
          "end_time": "2021-11-11T05:19:33.025946",
          "exception": false,
          "start_time": "2021-11-11T05:19:32.909283",
          "status": "completed"
        },
        "tags": []
      },
      "outputs": [],
      "source": [
        "False_negative_rate = SVM_CM[1][0]/(SVM_CM[1][0]+SVM_CM[1][1])"
      ]
    },
    {
      "cell_type": "code",
      "execution_count": null,
      "id": "a6a15252",
      "metadata": {
        "execution": {
          "iopub.execute_input": "2021-11-11T05:19:33.249665Z",
          "iopub.status.busy": "2021-11-11T05:19:33.249086Z",
          "iopub.status.idle": "2021-11-11T05:19:33.253140Z",
          "shell.execute_reply": "2021-11-11T05:19:33.253672Z",
          "shell.execute_reply.started": "2021-11-05T03:24:19.562249Z"
        },
        "id": "a6a15252",
        "outputId": "64dc0b7e-3d6b-4a66-8384-3b253b4cf5f4",
        "papermill": {
          "duration": 0.116975,
          "end_time": "2021-11-11T05:19:33.253826",
          "exception": false,
          "start_time": "2021-11-11T05:19:33.136851",
          "status": "completed"
        },
        "tags": [],
        "colab": {
          "base_uri": "https://localhost:8080/"
        }
      },
      "outputs": [
        {
          "output_type": "execute_result",
          "data": {
            "text/plain": [
              "5.333333333333334"
            ]
          },
          "metadata": {},
          "execution_count": 117
        }
      ],
      "source": [
        "False_negative_rate*100"
      ]
    },
    {
      "cell_type": "markdown",
      "id": "65a4dc76",
      "metadata": {
        "papermill": {
          "duration": 0.109771,
          "end_time": "2021-11-11T05:19:33.693917",
          "exception": false,
          "start_time": "2021-11-11T05:19:33.584146",
          "status": "completed"
        },
        "tags": [],
        "id": "65a4dc76"
      },
      "source": [
        "Conclusion\n",
        "- Five classification models; Logistic Regression, k-Nearest Neighbour(KNN), Support Vector Machine(SVM), Decision Tree and Random Forest were used to classify the data.\n",
        "\n",
        "- Hypertuning was done in SVM, Decision Tree, Random Forest and kNN to get the best results.\n",
        "\n",
        "- Variables were scaled for KNN, SVM, Logitic Regresion model. The Decision Tree model does not need to be scaled as no distance is calculated for this model.\n",
        "\n",
        "- Each model provides high accuracy with Logistic Regression being the lowest with 88% and all the other model provide an accuracy of more than 90%.\n",
        "\n",
        "- As the model predicts cancer, false negative rate is more important than accuracy. False negative rate is FN/(FN+TP).\n",
        "\n",
        "- Decision Tree model with hypertuning provides the best(least) False Negative rate at 4%.\n"
      ]
    }
  ],
  "metadata": {
    "kernelspec": {
      "display_name": "Python 3",
      "language": "python",
      "name": "python3"
    },
    "language_info": {
      "codemirror_mode": {
        "name": "ipython",
        "version": 3
      },
      "file_extension": ".py",
      "mimetype": "text/x-python",
      "name": "python",
      "nbconvert_exporter": "python",
      "pygments_lexer": "ipython3",
      "version": "3.7.10"
    },
    "papermill": {
      "default_parameters": {},
      "duration": 114.994861,
      "end_time": "2021-11-11T05:19:36.481754",
      "environment_variables": {},
      "exception": null,
      "input_path": "__notebook__.ipynb",
      "output_path": "__notebook__.ipynb",
      "parameters": {},
      "start_time": "2021-11-11T05:17:41.486893",
      "version": "2.3.3"
    },
    "colab": {
      "provenance": [],
      "collapsed_sections": [
        "ffba3c47",
        "e063d88e",
        "052e4dd8"
      ]
    }
  },
  "nbformat": 4,
  "nbformat_minor": 5
}